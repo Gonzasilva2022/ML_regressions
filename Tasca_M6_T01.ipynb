{
 "cells": [
  {
   "cell_type": "markdown",
   "id": "dd6fc329",
   "metadata": {},
   "source": [
    "## <div style=\"background-color: #BAE3BC; padding: 10px;\"><b>Exercicis per practicar amb regressions</b>\n",
    "\n",
    "</div>"
   ]
  },
  {
   "cell_type": "markdown",
   "id": "a18b17b6",
   "metadata": {},
   "source": [
    "### Exercici 1\n",
    "\n",
    "* Crea almenys dos models de regressió diferents per intentar predir el millor possible el preu de les vivendes (MEDV) de l'arxiu adjunt."
   ]
  },
  {
   "cell_type": "code",
   "execution_count": 1,
   "id": "e104d3da",
   "metadata": {},
   "outputs": [],
   "source": [
    "import numpy as np\n",
    "import pandas as pd\n",
    "import matplotlib.pyplot as plt\n",
    "from pandas.plotting import scatter_matrix\n",
    "from matplotlib import pyplot\n",
    "from scipy import stats\n",
    "from sklearn import metrics\n",
    "import seaborn as sns\n",
    "import warnings\n",
    "warnings.filterwarnings('ignore')\n",
    "%matplotlib inline"
   ]
  },
  {
   "cell_type": "markdown",
   "id": "5244a6aa",
   "metadata": {},
   "source": [
    "### <div style=\"background-color: #D3DDF7; padding: 10px;\"><b>Importem el dataset</b>\n",
    "\n",
    "</div>"
   ]
  },
  {
   "cell_type": "code",
   "execution_count": 2,
   "id": "5dd00bc9",
   "metadata": {},
   "outputs": [
    {
     "data": {
      "text/html": [
       "<div>\n",
       "<style scoped>\n",
       "    .dataframe tbody tr th:only-of-type {\n",
       "        vertical-align: middle;\n",
       "    }\n",
       "\n",
       "    .dataframe tbody tr th {\n",
       "        vertical-align: top;\n",
       "    }\n",
       "\n",
       "    .dataframe thead th {\n",
       "        text-align: right;\n",
       "    }\n",
       "</style>\n",
       "<table border=\"1\" class=\"dataframe\">\n",
       "  <thead>\n",
       "    <tr style=\"text-align: right;\">\n",
       "      <th></th>\n",
       "      <th>0</th>\n",
       "      <th>1</th>\n",
       "      <th>2</th>\n",
       "      <th>3</th>\n",
       "      <th>4</th>\n",
       "      <th>5</th>\n",
       "      <th>6</th>\n",
       "      <th>7</th>\n",
       "      <th>8</th>\n",
       "      <th>9</th>\n",
       "      <th>10</th>\n",
       "      <th>11</th>\n",
       "      <th>12</th>\n",
       "      <th>13</th>\n",
       "    </tr>\n",
       "  </thead>\n",
       "  <tbody>\n",
       "    <tr>\n",
       "      <th>0</th>\n",
       "      <td>0.00632</td>\n",
       "      <td>18.0</td>\n",
       "      <td>2.31</td>\n",
       "      <td>0</td>\n",
       "      <td>0.538</td>\n",
       "      <td>6.575</td>\n",
       "      <td>65.2</td>\n",
       "      <td>4.0900</td>\n",
       "      <td>1</td>\n",
       "      <td>296.0</td>\n",
       "      <td>15.3</td>\n",
       "      <td>396.90</td>\n",
       "      <td>4.98</td>\n",
       "      <td>24.0</td>\n",
       "    </tr>\n",
       "    <tr>\n",
       "      <th>1</th>\n",
       "      <td>0.02731</td>\n",
       "      <td>0.0</td>\n",
       "      <td>7.07</td>\n",
       "      <td>0</td>\n",
       "      <td>0.469</td>\n",
       "      <td>6.421</td>\n",
       "      <td>78.9</td>\n",
       "      <td>4.9671</td>\n",
       "      <td>2</td>\n",
       "      <td>242.0</td>\n",
       "      <td>17.8</td>\n",
       "      <td>396.90</td>\n",
       "      <td>9.14</td>\n",
       "      <td>21.6</td>\n",
       "    </tr>\n",
       "    <tr>\n",
       "      <th>2</th>\n",
       "      <td>0.02729</td>\n",
       "      <td>0.0</td>\n",
       "      <td>7.07</td>\n",
       "      <td>0</td>\n",
       "      <td>0.469</td>\n",
       "      <td>7.185</td>\n",
       "      <td>61.1</td>\n",
       "      <td>4.9671</td>\n",
       "      <td>2</td>\n",
       "      <td>242.0</td>\n",
       "      <td>17.8</td>\n",
       "      <td>392.83</td>\n",
       "      <td>4.03</td>\n",
       "      <td>34.7</td>\n",
       "    </tr>\n",
       "    <tr>\n",
       "      <th>3</th>\n",
       "      <td>0.03237</td>\n",
       "      <td>0.0</td>\n",
       "      <td>2.18</td>\n",
       "      <td>0</td>\n",
       "      <td>0.458</td>\n",
       "      <td>6.998</td>\n",
       "      <td>45.8</td>\n",
       "      <td>6.0622</td>\n",
       "      <td>3</td>\n",
       "      <td>222.0</td>\n",
       "      <td>18.7</td>\n",
       "      <td>394.63</td>\n",
       "      <td>2.94</td>\n",
       "      <td>33.4</td>\n",
       "    </tr>\n",
       "    <tr>\n",
       "      <th>4</th>\n",
       "      <td>0.06905</td>\n",
       "      <td>0.0</td>\n",
       "      <td>2.18</td>\n",
       "      <td>0</td>\n",
       "      <td>0.458</td>\n",
       "      <td>7.147</td>\n",
       "      <td>54.2</td>\n",
       "      <td>6.0622</td>\n",
       "      <td>3</td>\n",
       "      <td>222.0</td>\n",
       "      <td>18.7</td>\n",
       "      <td>396.90</td>\n",
       "      <td>5.33</td>\n",
       "      <td>36.2</td>\n",
       "    </tr>\n",
       "  </tbody>\n",
       "</table>\n",
       "</div>"
      ],
      "text/plain": [
       "        0     1     2   3      4      5     6       7   8      9     10  \\\n",
       "0  0.00632  18.0  2.31   0  0.538  6.575  65.2  4.0900   1  296.0  15.3   \n",
       "1  0.02731   0.0  7.07   0  0.469  6.421  78.9  4.9671   2  242.0  17.8   \n",
       "2  0.02729   0.0  7.07   0  0.469  7.185  61.1  4.9671   2  242.0  17.8   \n",
       "3  0.03237   0.0  2.18   0  0.458  6.998  45.8  6.0622   3  222.0  18.7   \n",
       "4  0.06905   0.0  2.18   0  0.458  7.147  54.2  6.0622   3  222.0  18.7   \n",
       "\n",
       "       11    12    13  \n",
       "0  396.90  4.98  24.0  \n",
       "1  396.90  9.14  21.6  \n",
       "2  392.83  4.03  34.7  \n",
       "3  394.63  2.94  33.4  \n",
       "4  396.90  5.33  36.2  "
      ]
     },
     "execution_count": 2,
     "metadata": {},
     "output_type": "execute_result"
    }
   ],
   "source": [
    "house = pd.read_csv('housing data.csv',header=None)\n",
    "house.head()"
   ]
  },
  {
   "cell_type": "markdown",
   "id": "90e41009",
   "metadata": {},
   "source": [
    "*Ara revisem ràpidament el dataset*"
   ]
  },
  {
   "cell_type": "code",
   "execution_count": 3,
   "id": "c6178d3e",
   "metadata": {},
   "outputs": [
    {
     "name": "stdout",
     "output_type": "stream",
     "text": [
      "<class 'pandas.core.frame.DataFrame'>\n",
      "RangeIndex: 506 entries, 0 to 505\n",
      "Data columns (total 14 columns):\n",
      " #   Column  Non-Null Count  Dtype  \n",
      "---  ------  --------------  -----  \n",
      " 0   0       506 non-null    float64\n",
      " 1   1       506 non-null    float64\n",
      " 2   2       506 non-null    float64\n",
      " 3   3       506 non-null    int64  \n",
      " 4   4       506 non-null    float64\n",
      " 5   5       506 non-null    float64\n",
      " 6   6       506 non-null    float64\n",
      " 7   7       506 non-null    float64\n",
      " 8   8       506 non-null    int64  \n",
      " 9   9       506 non-null    float64\n",
      " 10  10      506 non-null    float64\n",
      " 11  11      506 non-null    float64\n",
      " 12  12      506 non-null    float64\n",
      " 13  13      506 non-null    float64\n",
      "dtypes: float64(12), int64(2)\n",
      "memory usage: 55.5 KB\n"
     ]
    }
   ],
   "source": [
    "house.info()"
   ]
  },
  {
   "cell_type": "markdown",
   "id": "2e33046c",
   "metadata": {},
   "source": [
    "*Veiem que tenim 14 columnes i 506 files. Totes les columnes són numèriques i porten un tipus de dade Float o int.* "
   ]
  },
  {
   "cell_type": "markdown",
   "id": "ec09a04b",
   "metadata": {},
   "source": [
    "*Ara necessitem entendre aquest dataset i per això tenim un recurs extra amb els noms de les columnes. A continuació obrirem aquest nou arxiu i mirarem l'informació que té.*"
   ]
  },
  {
   "cell_type": "code",
   "execution_count": 4,
   "id": "0e04b16c",
   "metadata": {},
   "outputs": [
    {
     "name": "stdout",
     "output_type": "stream",
     "text": [
      "1. Title: Boston Housing Data\n",
      "\n",
      "2. Sources:\n",
      "(a) Origin:  This dataset was taken from the StatLib library which is\n",
      "maintained at Carnegie Mellon University.\n",
      "(b) Creator:  Harrison, D. and Rubinfeld, D.L. 'Hedonic prices and the\n",
      "demand for clean air', J. Environ. Economics & Management,\n",
      "vol.5, 81-102, 1978.\n",
      "(c) Date: July 7, 1993\n",
      "\n",
      "3. Past Usage:\n",
      "-   Used in Belsley, Kuh & Welsch, 'Regression diagnostics ...', Wiley,\n",
      "1980.   N.B. Various transformations are used in the table on\n",
      "pages 244-261.\n",
      "-  Quinlan,R. (1993). Combining Instance-Based and Model-Based Learning.\n",
      "In Proceedings on the Tenth International Conference of Machine\n",
      "Learning, 236-243, University of Massachusetts, Amherst. Morgan\n",
      "Kaufmann.\n",
      "\n",
      "4. Relevant Information:\n",
      "\n",
      "Concerns housing values in suburbs of Boston.\n",
      "\n",
      "5. Number of Instances: 506\n",
      "\n",
      "6. Number of Attributes: 13 continuous attributes (including \"class\"\n",
      "attribute \"MEDV\"), 1 binary-valued attribute.\n",
      "\n",
      "7. Attribute Information:\n",
      "\n",
      "1. CRIM      per capita crime rate by town\n",
      "2. ZN        proportion of residential land zoned for lots over\n",
      "25,000 sq.ft.\n",
      "3. INDUS     proportion of non-retail business acres per town\n",
      "4. CHAS      Charles River dummy variable (= 1 if tract bounds\n",
      "river; 0 otherwise)\n",
      "5. NOX       nitric oxides concentration (parts per 10 million)\n",
      "6. RM        average number of rooms per dwelling\n",
      "7. AGE       proportion of owner-occupied units built prior to 1940\n",
      "8. DIS       weighted distances to five Boston employment centres\n",
      "9. RAD       index of accessibility to radial highways\n",
      "10. TAX      full-value property-tax rate per $10,000\n",
      "11. PTRATIO  pupil-teacher ratio by town\n",
      "12. B        1000(Bk - 0.63)^2 where Bk is the proportion of blacks\n",
      "by town\n",
      "13. LSTAT    % lower status of the population\n",
      "14. MEDV     Median value of owner-occupied homes in $1000's\n",
      "\n",
      "8. Missing Attribute Values:  None.\n",
      "\n",
      "\n",
      "\n"
     ]
    }
   ],
   "source": [
    "with open('housing data description.txt', encoding='utf8') as h:\n",
    "    for line in h:\n",
    "        print(line.strip())"
   ]
  },
  {
   "cell_type": "markdown",
   "id": "4a6cbb30",
   "metadata": {},
   "source": [
    "*L'arxiu anterior és fonamental per desenvolupar l'actual exercici. Fent un resumen, el dataset que hem anomenat 'House' és una mostra del valor de l'habitage als suburbis de Boston. Aquest dataset té atributs qué parlen sobre les característiques de l'habitatge i per tant influeixen en el seu preu. El preu esta representat en el dataset per la variable 'MEDV', doncs aquesta seria la nostra variable a predir o target. Totes les altres variables que no siguin el target són atributs de l'habitatge mateix o relatius al barri i, en conseqüència influeixen en el preu final de l'habitatge.*"
   ]
  },
  {
   "cell_type": "markdown",
   "id": "92f072cc",
   "metadata": {},
   "source": [
    "*Ara que ja tenim el nom de les columnes i sabem que volen dir, canviarem els noms predeterminats de les columnes per les correctes*"
   ]
  },
  {
   "cell_type": "code",
   "execution_count": 5,
   "id": "62c261b5",
   "metadata": {},
   "outputs": [
    {
     "data": {
      "text/plain": [
       "Index(['CRIM', 'ZN', 'INDUS', 'CHAS', 'NOX', 'RM', 'AGE', 'DIS', 'RAD', 'TAX',\n",
       "       'PTRATIO', 'B', 'LSTAT', 'MEDV'],\n",
       "      dtype='object')"
      ]
     },
     "execution_count": 5,
     "metadata": {},
     "output_type": "execute_result"
    }
   ],
   "source": [
    "house.columns=['CRIM','ZN','INDUS','CHAS','NOX','RM','AGE','DIS','RAD','TAX','PTRATIO','B','LSTAT','MEDV']\n",
    "house.columns"
   ]
  },
  {
   "cell_type": "code",
   "execution_count": 6,
   "id": "c5db29c1",
   "metadata": {},
   "outputs": [
    {
     "data": {
      "text/html": [
       "<div>\n",
       "<style scoped>\n",
       "    .dataframe tbody tr th:only-of-type {\n",
       "        vertical-align: middle;\n",
       "    }\n",
       "\n",
       "    .dataframe tbody tr th {\n",
       "        vertical-align: top;\n",
       "    }\n",
       "\n",
       "    .dataframe thead th {\n",
       "        text-align: right;\n",
       "    }\n",
       "</style>\n",
       "<table border=\"1\" class=\"dataframe\">\n",
       "  <thead>\n",
       "    <tr style=\"text-align: right;\">\n",
       "      <th></th>\n",
       "      <th>CRIM</th>\n",
       "      <th>ZN</th>\n",
       "      <th>INDUS</th>\n",
       "      <th>CHAS</th>\n",
       "      <th>NOX</th>\n",
       "      <th>RM</th>\n",
       "      <th>AGE</th>\n",
       "      <th>DIS</th>\n",
       "      <th>RAD</th>\n",
       "      <th>TAX</th>\n",
       "      <th>PTRATIO</th>\n",
       "      <th>B</th>\n",
       "      <th>LSTAT</th>\n",
       "      <th>MEDV</th>\n",
       "    </tr>\n",
       "  </thead>\n",
       "  <tbody>\n",
       "    <tr>\n",
       "      <th>0</th>\n",
       "      <td>0.00632</td>\n",
       "      <td>18.0</td>\n",
       "      <td>2.31</td>\n",
       "      <td>0</td>\n",
       "      <td>0.538</td>\n",
       "      <td>6.575</td>\n",
       "      <td>65.2</td>\n",
       "      <td>4.0900</td>\n",
       "      <td>1</td>\n",
       "      <td>296.0</td>\n",
       "      <td>15.3</td>\n",
       "      <td>396.90</td>\n",
       "      <td>4.98</td>\n",
       "      <td>24.0</td>\n",
       "    </tr>\n",
       "    <tr>\n",
       "      <th>1</th>\n",
       "      <td>0.02731</td>\n",
       "      <td>0.0</td>\n",
       "      <td>7.07</td>\n",
       "      <td>0</td>\n",
       "      <td>0.469</td>\n",
       "      <td>6.421</td>\n",
       "      <td>78.9</td>\n",
       "      <td>4.9671</td>\n",
       "      <td>2</td>\n",
       "      <td>242.0</td>\n",
       "      <td>17.8</td>\n",
       "      <td>396.90</td>\n",
       "      <td>9.14</td>\n",
       "      <td>21.6</td>\n",
       "    </tr>\n",
       "    <tr>\n",
       "      <th>2</th>\n",
       "      <td>0.02729</td>\n",
       "      <td>0.0</td>\n",
       "      <td>7.07</td>\n",
       "      <td>0</td>\n",
       "      <td>0.469</td>\n",
       "      <td>7.185</td>\n",
       "      <td>61.1</td>\n",
       "      <td>4.9671</td>\n",
       "      <td>2</td>\n",
       "      <td>242.0</td>\n",
       "      <td>17.8</td>\n",
       "      <td>392.83</td>\n",
       "      <td>4.03</td>\n",
       "      <td>34.7</td>\n",
       "    </tr>\n",
       "    <tr>\n",
       "      <th>3</th>\n",
       "      <td>0.03237</td>\n",
       "      <td>0.0</td>\n",
       "      <td>2.18</td>\n",
       "      <td>0</td>\n",
       "      <td>0.458</td>\n",
       "      <td>6.998</td>\n",
       "      <td>45.8</td>\n",
       "      <td>6.0622</td>\n",
       "      <td>3</td>\n",
       "      <td>222.0</td>\n",
       "      <td>18.7</td>\n",
       "      <td>394.63</td>\n",
       "      <td>2.94</td>\n",
       "      <td>33.4</td>\n",
       "    </tr>\n",
       "    <tr>\n",
       "      <th>4</th>\n",
       "      <td>0.06905</td>\n",
       "      <td>0.0</td>\n",
       "      <td>2.18</td>\n",
       "      <td>0</td>\n",
       "      <td>0.458</td>\n",
       "      <td>7.147</td>\n",
       "      <td>54.2</td>\n",
       "      <td>6.0622</td>\n",
       "      <td>3</td>\n",
       "      <td>222.0</td>\n",
       "      <td>18.7</td>\n",
       "      <td>396.90</td>\n",
       "      <td>5.33</td>\n",
       "      <td>36.2</td>\n",
       "    </tr>\n",
       "    <tr>\n",
       "      <th>5</th>\n",
       "      <td>0.02985</td>\n",
       "      <td>0.0</td>\n",
       "      <td>2.18</td>\n",
       "      <td>0</td>\n",
       "      <td>0.458</td>\n",
       "      <td>6.430</td>\n",
       "      <td>58.7</td>\n",
       "      <td>6.0622</td>\n",
       "      <td>3</td>\n",
       "      <td>222.0</td>\n",
       "      <td>18.7</td>\n",
       "      <td>394.12</td>\n",
       "      <td>5.21</td>\n",
       "      <td>28.7</td>\n",
       "    </tr>\n",
       "    <tr>\n",
       "      <th>6</th>\n",
       "      <td>0.08829</td>\n",
       "      <td>12.5</td>\n",
       "      <td>7.87</td>\n",
       "      <td>0</td>\n",
       "      <td>0.524</td>\n",
       "      <td>6.012</td>\n",
       "      <td>66.6</td>\n",
       "      <td>5.5605</td>\n",
       "      <td>5</td>\n",
       "      <td>311.0</td>\n",
       "      <td>15.2</td>\n",
       "      <td>395.60</td>\n",
       "      <td>12.43</td>\n",
       "      <td>22.9</td>\n",
       "    </tr>\n",
       "    <tr>\n",
       "      <th>7</th>\n",
       "      <td>0.14455</td>\n",
       "      <td>12.5</td>\n",
       "      <td>7.87</td>\n",
       "      <td>0</td>\n",
       "      <td>0.524</td>\n",
       "      <td>6.172</td>\n",
       "      <td>96.1</td>\n",
       "      <td>5.9505</td>\n",
       "      <td>5</td>\n",
       "      <td>311.0</td>\n",
       "      <td>15.2</td>\n",
       "      <td>396.90</td>\n",
       "      <td>19.15</td>\n",
       "      <td>27.1</td>\n",
       "    </tr>\n",
       "    <tr>\n",
       "      <th>8</th>\n",
       "      <td>0.21124</td>\n",
       "      <td>12.5</td>\n",
       "      <td>7.87</td>\n",
       "      <td>0</td>\n",
       "      <td>0.524</td>\n",
       "      <td>5.631</td>\n",
       "      <td>100.0</td>\n",
       "      <td>6.0821</td>\n",
       "      <td>5</td>\n",
       "      <td>311.0</td>\n",
       "      <td>15.2</td>\n",
       "      <td>386.63</td>\n",
       "      <td>29.93</td>\n",
       "      <td>16.5</td>\n",
       "    </tr>\n",
       "    <tr>\n",
       "      <th>9</th>\n",
       "      <td>0.17004</td>\n",
       "      <td>12.5</td>\n",
       "      <td>7.87</td>\n",
       "      <td>0</td>\n",
       "      <td>0.524</td>\n",
       "      <td>6.004</td>\n",
       "      <td>85.9</td>\n",
       "      <td>6.5921</td>\n",
       "      <td>5</td>\n",
       "      <td>311.0</td>\n",
       "      <td>15.2</td>\n",
       "      <td>386.71</td>\n",
       "      <td>17.10</td>\n",
       "      <td>18.9</td>\n",
       "    </tr>\n",
       "  </tbody>\n",
       "</table>\n",
       "</div>"
      ],
      "text/plain": [
       "      CRIM    ZN  INDUS  CHAS    NOX     RM    AGE     DIS  RAD    TAX  \\\n",
       "0  0.00632  18.0   2.31     0  0.538  6.575   65.2  4.0900    1  296.0   \n",
       "1  0.02731   0.0   7.07     0  0.469  6.421   78.9  4.9671    2  242.0   \n",
       "2  0.02729   0.0   7.07     0  0.469  7.185   61.1  4.9671    2  242.0   \n",
       "3  0.03237   0.0   2.18     0  0.458  6.998   45.8  6.0622    3  222.0   \n",
       "4  0.06905   0.0   2.18     0  0.458  7.147   54.2  6.0622    3  222.0   \n",
       "5  0.02985   0.0   2.18     0  0.458  6.430   58.7  6.0622    3  222.0   \n",
       "6  0.08829  12.5   7.87     0  0.524  6.012   66.6  5.5605    5  311.0   \n",
       "7  0.14455  12.5   7.87     0  0.524  6.172   96.1  5.9505    5  311.0   \n",
       "8  0.21124  12.5   7.87     0  0.524  5.631  100.0  6.0821    5  311.0   \n",
       "9  0.17004  12.5   7.87     0  0.524  6.004   85.9  6.5921    5  311.0   \n",
       "\n",
       "   PTRATIO       B  LSTAT  MEDV  \n",
       "0     15.3  396.90   4.98  24.0  \n",
       "1     17.8  396.90   9.14  21.6  \n",
       "2     17.8  392.83   4.03  34.7  \n",
       "3     18.7  394.63   2.94  33.4  \n",
       "4     18.7  396.90   5.33  36.2  \n",
       "5     18.7  394.12   5.21  28.7  \n",
       "6     15.2  395.60  12.43  22.9  \n",
       "7     15.2  396.90  19.15  27.1  \n",
       "8     15.2  386.63  29.93  16.5  \n",
       "9     15.2  386.71  17.10  18.9  "
      ]
     },
     "execution_count": 6,
     "metadata": {},
     "output_type": "execute_result"
    }
   ],
   "source": [
    "house.head(10)"
   ]
  },
  {
   "cell_type": "markdown",
   "id": "987ddf2f",
   "metadata": {},
   "source": [
    "*Ara repasem el dataset novament.*"
   ]
  },
  {
   "cell_type": "code",
   "execution_count": 7,
   "id": "29a3be4d",
   "metadata": {},
   "outputs": [
    {
     "name": "stdout",
     "output_type": "stream",
     "text": [
      "<class 'pandas.core.frame.DataFrame'>\n",
      "RangeIndex: 506 entries, 0 to 505\n",
      "Data columns (total 14 columns):\n",
      " #   Column   Non-Null Count  Dtype  \n",
      "---  ------   --------------  -----  \n",
      " 0   CRIM     506 non-null    float64\n",
      " 1   ZN       506 non-null    float64\n",
      " 2   INDUS    506 non-null    float64\n",
      " 3   CHAS     506 non-null    int64  \n",
      " 4   NOX      506 non-null    float64\n",
      " 5   RM       506 non-null    float64\n",
      " 6   AGE      506 non-null    float64\n",
      " 7   DIS      506 non-null    float64\n",
      " 8   RAD      506 non-null    int64  \n",
      " 9   TAX      506 non-null    float64\n",
      " 10  PTRATIO  506 non-null    float64\n",
      " 11  B        506 non-null    float64\n",
      " 12  LSTAT    506 non-null    float64\n",
      " 13  MEDV     506 non-null    float64\n",
      "dtypes: float64(12), int64(2)\n",
      "memory usage: 55.5 KB\n"
     ]
    }
   ],
   "source": [
    "house.info()"
   ]
  },
  {
   "cell_type": "code",
   "execution_count": 8,
   "id": "178833bc",
   "metadata": {},
   "outputs": [
    {
     "data": {
      "text/plain": [
       "CRIM       504\n",
       "ZN          26\n",
       "INDUS       76\n",
       "CHAS         2\n",
       "NOX         81\n",
       "RM         446\n",
       "AGE        356\n",
       "DIS        412\n",
       "RAD          9\n",
       "TAX         66\n",
       "PTRATIO     46\n",
       "B          357\n",
       "LSTAT      455\n",
       "MEDV       229\n",
       "dtype: int64"
      ]
     },
     "execution_count": 8,
     "metadata": {},
     "output_type": "execute_result"
    }
   ],
   "source": [
    "house.nunique()"
   ]
  },
  {
   "cell_type": "markdown",
   "id": "06a739f8",
   "metadata": {},
   "source": [
    "Veiem com la columne 'CHAS' només té dos valors unics. Això és perquè correspon a una variable dummy (binària). Llavors, es posa un \"1\" si el terreny on es localitza l'habitatge limita amb el riu i \"0\" si passa el contrari."
   ]
  },
  {
   "cell_type": "markdown",
   "id": "a1290f8b",
   "metadata": {},
   "source": [
    "*Mirarem si hi ha Nan's, nulls o duplicats*."
   ]
  },
  {
   "cell_type": "code",
   "execution_count": 9,
   "id": "1a8fbec0",
   "metadata": {},
   "outputs": [
    {
     "data": {
      "text/plain": [
       "CRIM       0\n",
       "ZN         0\n",
       "INDUS      0\n",
       "CHAS       0\n",
       "NOX        0\n",
       "RM         0\n",
       "AGE        0\n",
       "DIS        0\n",
       "RAD        0\n",
       "TAX        0\n",
       "PTRATIO    0\n",
       "B          0\n",
       "LSTAT      0\n",
       "MEDV       0\n",
       "dtype: int64"
      ]
     },
     "execution_count": 9,
     "metadata": {},
     "output_type": "execute_result"
    }
   ],
   "source": [
    "house.isna().sum()"
   ]
  },
  {
   "cell_type": "code",
   "execution_count": 10,
   "id": "2329048c",
   "metadata": {},
   "outputs": [
    {
     "data": {
      "text/plain": [
       "CRIM       0\n",
       "ZN         0\n",
       "INDUS      0\n",
       "CHAS       0\n",
       "NOX        0\n",
       "RM         0\n",
       "AGE        0\n",
       "DIS        0\n",
       "RAD        0\n",
       "TAX        0\n",
       "PTRATIO    0\n",
       "B          0\n",
       "LSTAT      0\n",
       "MEDV       0\n",
       "dtype: int64"
      ]
     },
     "execution_count": 10,
     "metadata": {},
     "output_type": "execute_result"
    }
   ],
   "source": [
    "house.isnull().sum()"
   ]
  },
  {
   "cell_type": "code",
   "execution_count": 11,
   "id": "e5f4b21d",
   "metadata": {},
   "outputs": [
    {
     "data": {
      "text/plain": [
       "0"
      ]
     },
     "execution_count": 11,
     "metadata": {},
     "output_type": "execute_result"
    }
   ],
   "source": [
    "house.duplicated().sum()"
   ]
  },
  {
   "cell_type": "markdown",
   "id": "473f7aba",
   "metadata": {},
   "source": [
    "*Ara que ja hem comprovat que no existeixen nulls, nan's ni duplicats, doncs mirarem la correlació de totes les variables amb una gràfica de Heatmap.*"
   ]
  },
  {
   "cell_type": "code",
   "execution_count": 12,
   "id": "ba2d9d33",
   "metadata": {},
   "outputs": [
    {
     "data": {
      "image/png": "[encoded data removed]",
      "text/plain": [
       "<Figure size 936x576 with 2 Axes>"
      ]
     },
     "metadata": {
      "needs_background": "light"
     },
     "output_type": "display_data"
    }
   ],
   "source": [
    "plt.figure(figsize=(13,8))\n",
    "mask = np.triu(np.ones_like(house.corr()))\n",
    "\n",
    "sns.heatmap(house.corr(), mask=mask, vmin=-1, vmax=1, annot=True)\n",
    "\n",
    "plt.show()"
   ]
  },
  {
   "cell_type": "markdown",
   "id": "b0ac13a6",
   "metadata": {},
   "source": [
    "1. El heatmap ens indica que la nostra variable target \"MEDV\" té una alta correlació positiva amb \"RM\" i negativa amb \"LSTAT\". Això fa molt sentit perquè per una banda mentre més habitacions tingui un habitatge major serà el preu i, d'un altre banda mentre el porcentatge de població de baixos ingressos sigui més baix, doncs el valor de l'habitatge serà més alt. Això perquè normalment en las zones més riques els habitatges tenen preus més alts. \n",
    "\n",
    "2. Una de les correlacions més altes del conjunt de dades es dona entre \"DIS\" i \"NOX\". És una alta correlació negativa que s'explica perquè mentre més lluny de les zones d'alta densitat de treball, comportaria menys densitat de trànsit, població flotant, industries, etc. D'aquesta manera quant més lluny d'aquest llocs, el nivell de contaminació serà més baix.\n",
    "\n",
    "*En general sense entrar en detalls, podem veure correlacions tant positives com negatives amb un grup important de variables que correlacionen al voltant d'un R entre 0.3 i 0.5*."
   ]
  },
  {
   "cell_type": "markdown",
   "id": "e464620c",
   "metadata": {},
   "source": [
    "### <div style=\"background-color: #D3DDF7; padding: 10px;\"><b>Preprocessament</b>\n",
    "\n",
    "</div>"
   ]
  },
  {
   "cell_type": "markdown",
   "id": "632f5330",
   "metadata": {},
   "source": [
    "*Abans d'aplicar algún procés de transformació a les nostres dades hem d'entre perqué ho fem. A continuació algunes idees fonamentals:*\n",
    "\n",
    "1. Si hem d'aplicar models de machine learning en un pas posterior, hem d'assegura-nos que aquests models puguin comparar i combinar les variables sota una escala comú.\n",
    "\n",
    "2. Alguns models de machine learning assumeixen que les dades ja es troben estandaritzades.\n",
    "\n",
    "3. Hem d'asegurar-nos que cap variable pugi tenir una dominància per sobre les altres. Si existeix una variable amb una escala molt més gran que altres podría tenir un impacte desproporcionat en el model."
   ]
  },
  {
   "cell_type": "markdown",
   "id": "9578c4fd",
   "metadata": {},
   "source": [
    "Dit això i primer de tot, el que farem serà veure si totes les variables tenen una distribució normal. Perquè dependent d'això, farem diferents tipus de transformacions. Per tant, aquest pas és bàsic abans de fer alguna altre cosa. Farem servir un bucle per fer-ho ràpida i numèricament (podriem mirar-ho només visualment però això no ens assegura res). Aplicarem el test de Shapiro:"
   ]
  },
  {
   "cell_type": "markdown",
   "id": "5c49d540",
   "metadata": {},
   "source": [
    "Comprovarem per a cada variable del dataset el següent:\n",
    "    \n",
    "    1. Hipòtesi nul·la      (H0): Aquesta variable té probablement una distribució normal de tipus Gaussiana.\"\n",
    "    2. Hipòtesi alternativa (H1): Aquesta variable no té probablement una distribució normal de tipus Gaussiana.\""
   ]
  },
  {
   "cell_type": "code",
   "execution_count": 13,
   "id": "6e3031bf",
   "metadata": {},
   "outputs": [
    {
     "name": "stdout",
     "output_type": "stream",
     "text": [
      "La variable CRIM te un P-value de 1.3285678005931464e-36\n",
      "La mostra no té probablement una distribució normal i, per tant es rebutja l'hipòtesi nul·la.\n",
      "\n",
      "La variable ZN te un P-value de 7.882576753156324e-34\n",
      "La mostra no té probablement una distribució normal i, per tant es rebutja l'hipòtesi nul·la.\n",
      "\n",
      "La variable INDUS te un P-value de 1.0642289039786765e-17\n",
      "La mostra no té probablement una distribució normal i, per tant es rebutja l'hipòtesi nul·la.\n",
      "\n",
      "La variable CHAS te un P-value de 2.350467979135232e-40\n",
      "La mostra no té probablement una distribució normal i, per tant es rebutja l'hipòtesi nul·la.\n",
      "\n",
      "La variable NOX te un P-value de 5.775851259944009e-14\n",
      "La mostra no té probablement una distribució normal i, per tant es rebutja l'hipòtesi nul·la.\n",
      "\n",
      "La variable RM te un P-value de 2.41115960530891e-10\n",
      "La mostra no té probablement una distribució normal i, per tant es rebutja l'hipòtesi nul·la.\n",
      "\n",
      "La variable AGE te un P-value de 2.230570069931666e-18\n",
      "La mostra no té probablement una distribució normal i, per tant es rebutja l'hipòtesi nul·la.\n",
      "\n",
      "La variable DIS te un P-value de 2.1852169563572717e-17\n",
      "La mostra no té probablement una distribució normal i, per tant es rebutja l'hipòtesi nul·la.\n",
      "\n",
      "La variable RAD te un P-value de 8.072704633085617e-30\n",
      "La mostra no té probablement una distribució normal i, per tant es rebutja l'hipòtesi nul·la.\n",
      "\n",
      "La variable TAX te un P-value de 1.1629678554442183e-23\n",
      "La mostra no té probablement una distribució normal i, per tant es rebutja l'hipòtesi nul·la.\n",
      "\n",
      "La variable PTRATIO te un P-value de 2.3602726930835014e-17\n",
      "La mostra no té probablement una distribució normal i, per tant es rebutja l'hipòtesi nul·la.\n",
      "\n",
      "La variable B te un P-value de 6.058497453659182e-36\n",
      "La mostra no té probablement una distribució normal i, per tant es rebutja l'hipòtesi nul·la.\n",
      "\n",
      "La variable LSTAT te un P-value de 8.286120135305927e-14\n",
      "La mostra no té probablement una distribució normal i, per tant es rebutja l'hipòtesi nul·la.\n",
      "\n",
      "La variable MEDV te un P-value de 4.940618243974614e-16\n",
      "La mostra no té probablement una distribució normal i, per tant es rebutja l'hipòtesi nul·la.\n",
      "\n"
     ]
    }
   ],
   "source": [
    "from scipy import stats\n",
    "from scipy.stats import shapiro\n",
    "\n",
    "for data in house.columns:\n",
    "    shapiro_test = stats.shapiro(house[data])\n",
    "    print(\"La variable\", data, \"te un P-value de\", shapiro_test.pvalue)\n",
    "    if shapiro_test.pvalue > 0.05:\n",
    "        print(\"La mostra té probablement una distribució normal i, per tant s'acull l'hipòtesi nul·la.\\n\")\n",
    "    else:\n",
    "        print(\"La mostra no té probablement una distribució normal i, per tant es rebutja l'hipòtesi nul·la.\\n\")"
   ]
  },
  {
   "cell_type": "markdown",
   "id": "513de58e",
   "metadata": {},
   "source": [
    "El test de shapiro ens diu que cap variable té una distribució normal. Ara mirarem si tenim o no outliers per tal de triar quin tipus de transformació farem desprès per a cada variable."
   ]
  },
  {
   "cell_type": "markdown",
   "id": "bde1944f",
   "metadata": {},
   "source": [
    "Farem servir llavors el Boxplot per detectar outliers."
   ]
  },
  {
   "cell_type": "code",
   "execution_count": 14,
   "id": "7722fd47",
   "metadata": {},
   "outputs": [
    {
     "data": {
      "image/png": "[encoded data removed]",
      "text/plain": [
       "<Figure size 1296x720 with 14 Axes>"
      ]
     },
     "metadata": {
      "needs_background": "light"
     },
     "output_type": "display_data"
    }
   ],
   "source": [
    "fig, axs = plt.subplots(ncols=7, nrows=2, figsize=(18, 10))\n",
    "count = 0\n",
    "axs = axs.flatten()\n",
    "for i,var in house.items():\n",
    "    sns.boxplot(y=i, data=house, ax=axs[count])\n",
    "    count= count+1\n",
    "plt.tight_layout(pad=0.5, w_pad=0.78, h_pad=4.0)"
   ]
  },
  {
   "cell_type": "markdown",
   "id": "2b59f8f4",
   "metadata": {},
   "source": [
    "### Resumen de les nostres variables abans de la transformació: "
   ]
  },
  {
   "cell_type": "markdown",
   "id": "eb4c7a3a",
   "metadata": {},
   "source": [
    "1. Amb les variables que hem vist que tenen outliers, doncs farem un **RobustScaler**. Aquestes variables són                 les següents; 'RM', 'ZN', 'CRIM','B','LSTAT', 'PTRATIO' i 'DIS'.\n",
    "           \n",
    "2. Amb les variables que hem vist sense outliers, doncs farem un **MinMaxScaler**. Aquestes variables són les                 les següents; 'AGE', 'TAX', 'INDUS' i 'NOX\n",
    "\n",
    "3. 'CHAS' i 'RAD' són variables categóriques i per aixó no intervindrem amb algún procés de transformació. Només farem una amb dummificació de 'RAD' posant-li '0' o '1' a les seves dades."
   ]
  },
  {
   "cell_type": "code",
   "execution_count": 15,
   "id": "5fe1c781",
   "metadata": {},
   "outputs": [
    {
     "data": {
      "text/html": [
       "<div>\n",
       "<style scoped>\n",
       "    .dataframe tbody tr th:only-of-type {\n",
       "        vertical-align: middle;\n",
       "    }\n",
       "\n",
       "    .dataframe tbody tr th {\n",
       "        vertical-align: top;\n",
       "    }\n",
       "\n",
       "    .dataframe thead th {\n",
       "        text-align: right;\n",
       "    }\n",
       "</style>\n",
       "<table border=\"1\" class=\"dataframe\">\n",
       "  <thead>\n",
       "    <tr style=\"text-align: right;\">\n",
       "      <th></th>\n",
       "      <th>CRIM</th>\n",
       "      <th>ZN</th>\n",
       "      <th>INDUS</th>\n",
       "      <th>CHAS</th>\n",
       "      <th>NOX</th>\n",
       "      <th>RM</th>\n",
       "      <th>AGE</th>\n",
       "      <th>DIS</th>\n",
       "      <th>TAX</th>\n",
       "      <th>PTRATIO</th>\n",
       "      <th>...</th>\n",
       "      <th>MEDV</th>\n",
       "      <th>RAD_1</th>\n",
       "      <th>RAD_2</th>\n",
       "      <th>RAD_3</th>\n",
       "      <th>RAD_4</th>\n",
       "      <th>RAD_5</th>\n",
       "      <th>RAD_6</th>\n",
       "      <th>RAD_7</th>\n",
       "      <th>RAD_8</th>\n",
       "      <th>RAD_24</th>\n",
       "    </tr>\n",
       "  </thead>\n",
       "  <tbody>\n",
       "    <tr>\n",
       "      <th>0</th>\n",
       "      <td>0.00632</td>\n",
       "      <td>18.0</td>\n",
       "      <td>2.31</td>\n",
       "      <td>0</td>\n",
       "      <td>0.538</td>\n",
       "      <td>6.575</td>\n",
       "      <td>65.2</td>\n",
       "      <td>4.0900</td>\n",
       "      <td>296.0</td>\n",
       "      <td>15.3</td>\n",
       "      <td>...</td>\n",
       "      <td>24.0</td>\n",
       "      <td>1</td>\n",
       "      <td>0</td>\n",
       "      <td>0</td>\n",
       "      <td>0</td>\n",
       "      <td>0</td>\n",
       "      <td>0</td>\n",
       "      <td>0</td>\n",
       "      <td>0</td>\n",
       "      <td>0</td>\n",
       "    </tr>\n",
       "    <tr>\n",
       "      <th>1</th>\n",
       "      <td>0.02731</td>\n",
       "      <td>0.0</td>\n",
       "      <td>7.07</td>\n",
       "      <td>0</td>\n",
       "      <td>0.469</td>\n",
       "      <td>6.421</td>\n",
       "      <td>78.9</td>\n",
       "      <td>4.9671</td>\n",
       "      <td>242.0</td>\n",
       "      <td>17.8</td>\n",
       "      <td>...</td>\n",
       "      <td>21.6</td>\n",
       "      <td>0</td>\n",
       "      <td>1</td>\n",
       "      <td>0</td>\n",
       "      <td>0</td>\n",
       "      <td>0</td>\n",
       "      <td>0</td>\n",
       "      <td>0</td>\n",
       "      <td>0</td>\n",
       "      <td>0</td>\n",
       "    </tr>\n",
       "    <tr>\n",
       "      <th>2</th>\n",
       "      <td>0.02729</td>\n",
       "      <td>0.0</td>\n",
       "      <td>7.07</td>\n",
       "      <td>0</td>\n",
       "      <td>0.469</td>\n",
       "      <td>7.185</td>\n",
       "      <td>61.1</td>\n",
       "      <td>4.9671</td>\n",
       "      <td>242.0</td>\n",
       "      <td>17.8</td>\n",
       "      <td>...</td>\n",
       "      <td>34.7</td>\n",
       "      <td>0</td>\n",
       "      <td>1</td>\n",
       "      <td>0</td>\n",
       "      <td>0</td>\n",
       "      <td>0</td>\n",
       "      <td>0</td>\n",
       "      <td>0</td>\n",
       "      <td>0</td>\n",
       "      <td>0</td>\n",
       "    </tr>\n",
       "    <tr>\n",
       "      <th>3</th>\n",
       "      <td>0.03237</td>\n",
       "      <td>0.0</td>\n",
       "      <td>2.18</td>\n",
       "      <td>0</td>\n",
       "      <td>0.458</td>\n",
       "      <td>6.998</td>\n",
       "      <td>45.8</td>\n",
       "      <td>6.0622</td>\n",
       "      <td>222.0</td>\n",
       "      <td>18.7</td>\n",
       "      <td>...</td>\n",
       "      <td>33.4</td>\n",
       "      <td>0</td>\n",
       "      <td>0</td>\n",
       "      <td>1</td>\n",
       "      <td>0</td>\n",
       "      <td>0</td>\n",
       "      <td>0</td>\n",
       "      <td>0</td>\n",
       "      <td>0</td>\n",
       "      <td>0</td>\n",
       "    </tr>\n",
       "    <tr>\n",
       "      <th>4</th>\n",
       "      <td>0.06905</td>\n",
       "      <td>0.0</td>\n",
       "      <td>2.18</td>\n",
       "      <td>0</td>\n",
       "      <td>0.458</td>\n",
       "      <td>7.147</td>\n",
       "      <td>54.2</td>\n",
       "      <td>6.0622</td>\n",
       "      <td>222.0</td>\n",
       "      <td>18.7</td>\n",
       "      <td>...</td>\n",
       "      <td>36.2</td>\n",
       "      <td>0</td>\n",
       "      <td>0</td>\n",
       "      <td>1</td>\n",
       "      <td>0</td>\n",
       "      <td>0</td>\n",
       "      <td>0</td>\n",
       "      <td>0</td>\n",
       "      <td>0</td>\n",
       "      <td>0</td>\n",
       "    </tr>\n",
       "  </tbody>\n",
       "</table>\n",
       "<p>5 rows × 22 columns</p>\n",
       "</div>"
      ],
      "text/plain": [
       "      CRIM    ZN  INDUS  CHAS    NOX     RM   AGE     DIS    TAX  PTRATIO  \\\n",
       "0  0.00632  18.0   2.31     0  0.538  6.575  65.2  4.0900  296.0     15.3   \n",
       "1  0.02731   0.0   7.07     0  0.469  6.421  78.9  4.9671  242.0     17.8   \n",
       "2  0.02729   0.0   7.07     0  0.469  7.185  61.1  4.9671  242.0     17.8   \n",
       "3  0.03237   0.0   2.18     0  0.458  6.998  45.8  6.0622  222.0     18.7   \n",
       "4  0.06905   0.0   2.18     0  0.458  7.147  54.2  6.0622  222.0     18.7   \n",
       "\n",
       "   ...  MEDV  RAD_1  RAD_2  RAD_3  RAD_4  RAD_5  RAD_6  RAD_7  RAD_8  RAD_24  \n",
       "0  ...  24.0      1      0      0      0      0      0      0      0       0  \n",
       "1  ...  21.6      0      1      0      0      0      0      0      0       0  \n",
       "2  ...  34.7      0      1      0      0      0      0      0      0       0  \n",
       "3  ...  33.4      0      0      1      0      0      0      0      0       0  \n",
       "4  ...  36.2      0      0      1      0      0      0      0      0       0  \n",
       "\n",
       "[5 rows x 22 columns]"
      ]
     },
     "execution_count": 15,
     "metadata": {},
     "output_type": "execute_result"
    }
   ],
   "source": [
    "house = pd.get_dummies(house, columns = [\"RAD\"])\n",
    "house.head()"
   ]
  },
  {
   "cell_type": "markdown",
   "id": "27741c2d",
   "metadata": {},
   "source": [
    "Fem una copia del dataset original"
   ]
  },
  {
   "cell_type": "code",
   "execution_count": 16,
   "id": "5fbbcaec",
   "metadata": {},
   "outputs": [],
   "source": [
    "house_pre = house.copy()"
   ]
  },
  {
   "cell_type": "markdown",
   "id": "45fd3244",
   "metadata": {},
   "source": [
    "### Apliquem les transformacions"
   ]
  },
  {
   "cell_type": "markdown",
   "id": "80e06dc8",
   "metadata": {},
   "source": [
    "#### RobustScaler"
   ]
  },
  {
   "cell_type": "code",
   "execution_count": 17,
   "id": "27757e11",
   "metadata": {},
   "outputs": [],
   "source": [
    "from sklearn import preprocessing\n",
    "\n",
    "Robust_scaler = preprocessing.RobustScaler().fit(house_pre[['CRIM', 'ZN', 'RM', 'DIS', 'PTRATIO', 'B', 'LSTAT']])\n",
    "house_pre[['CRIM', 'ZN', 'RM', 'DIS', 'PTRATIO', 'B', 'LSTAT']] = Robust_scaler.transform(house_pre[['CRIM', 'ZN', 'RM', 'DIS','PTRATIO', 'B', 'LSTAT']])"
   ]
  },
  {
   "cell_type": "markdown",
   "id": "1452507b",
   "metadata": {},
   "source": [
    "#### MinMax Scaler"
   ]
  },
  {
   "cell_type": "code",
   "execution_count": 18,
   "id": "62d1b37d",
   "metadata": {},
   "outputs": [
    {
     "data": {
      "text/html": [
       "<div>\n",
       "<style scoped>\n",
       "    .dataframe tbody tr th:only-of-type {\n",
       "        vertical-align: middle;\n",
       "    }\n",
       "\n",
       "    .dataframe tbody tr th {\n",
       "        vertical-align: top;\n",
       "    }\n",
       "\n",
       "    .dataframe thead th {\n",
       "        text-align: right;\n",
       "    }\n",
       "</style>\n",
       "<table border=\"1\" class=\"dataframe\">\n",
       "  <thead>\n",
       "    <tr style=\"text-align: right;\">\n",
       "      <th></th>\n",
       "      <th>CRIM</th>\n",
       "      <th>ZN</th>\n",
       "      <th>INDUS</th>\n",
       "      <th>CHAS</th>\n",
       "      <th>NOX</th>\n",
       "      <th>RM</th>\n",
       "      <th>AGE</th>\n",
       "      <th>DIS</th>\n",
       "      <th>TAX</th>\n",
       "      <th>PTRATIO</th>\n",
       "      <th>...</th>\n",
       "      <th>MEDV</th>\n",
       "      <th>RAD_1</th>\n",
       "      <th>RAD_2</th>\n",
       "      <th>RAD_3</th>\n",
       "      <th>RAD_4</th>\n",
       "      <th>RAD_5</th>\n",
       "      <th>RAD_6</th>\n",
       "      <th>RAD_7</th>\n",
       "      <th>RAD_8</th>\n",
       "      <th>RAD_24</th>\n",
       "    </tr>\n",
       "  </thead>\n",
       "  <tbody>\n",
       "    <tr>\n",
       "      <th>0</th>\n",
       "      <td>-0.069593</td>\n",
       "      <td>1.44</td>\n",
       "      <td>0.067815</td>\n",
       "      <td>0</td>\n",
       "      <td>0.314815</td>\n",
       "      <td>0.496612</td>\n",
       "      <td>0.641607</td>\n",
       "      <td>0.285777</td>\n",
       "      <td>0.208015</td>\n",
       "      <td>-1.339286</td>\n",
       "      <td>...</td>\n",
       "      <td>24.0</td>\n",
       "      <td>1</td>\n",
       "      <td>0</td>\n",
       "      <td>0</td>\n",
       "      <td>0</td>\n",
       "      <td>0</td>\n",
       "      <td>0</td>\n",
       "      <td>0</td>\n",
       "      <td>0</td>\n",
       "      <td>0</td>\n",
       "    </tr>\n",
       "    <tr>\n",
       "      <th>1</th>\n",
       "      <td>-0.063755</td>\n",
       "      <td>0.00</td>\n",
       "      <td>0.242302</td>\n",
       "      <td>0</td>\n",
       "      <td>0.172840</td>\n",
       "      <td>0.287940</td>\n",
       "      <td>0.782698</td>\n",
       "      <td>0.569789</td>\n",
       "      <td>0.104962</td>\n",
       "      <td>-0.446429</td>\n",
       "      <td>...</td>\n",
       "      <td>21.6</td>\n",
       "      <td>0</td>\n",
       "      <td>1</td>\n",
       "      <td>0</td>\n",
       "      <td>0</td>\n",
       "      <td>0</td>\n",
       "      <td>0</td>\n",
       "      <td>0</td>\n",
       "      <td>0</td>\n",
       "      <td>0</td>\n",
       "    </tr>\n",
       "    <tr>\n",
       "      <th>2</th>\n",
       "      <td>-0.063760</td>\n",
       "      <td>0.00</td>\n",
       "      <td>0.242302</td>\n",
       "      <td>0</td>\n",
       "      <td>0.172840</td>\n",
       "      <td>1.323171</td>\n",
       "      <td>0.599382</td>\n",
       "      <td>0.569789</td>\n",
       "      <td>0.104962</td>\n",
       "      <td>-0.446429</td>\n",
       "      <td>...</td>\n",
       "      <td>34.7</td>\n",
       "      <td>0</td>\n",
       "      <td>1</td>\n",
       "      <td>0</td>\n",
       "      <td>0</td>\n",
       "      <td>0</td>\n",
       "      <td>0</td>\n",
       "      <td>0</td>\n",
       "      <td>0</td>\n",
       "      <td>0</td>\n",
       "    </tr>\n",
       "    <tr>\n",
       "      <th>3</th>\n",
       "      <td>-0.062347</td>\n",
       "      <td>0.00</td>\n",
       "      <td>0.063050</td>\n",
       "      <td>0</td>\n",
       "      <td>0.150206</td>\n",
       "      <td>1.069783</td>\n",
       "      <td>0.441813</td>\n",
       "      <td>0.924391</td>\n",
       "      <td>0.066794</td>\n",
       "      <td>-0.125000</td>\n",
       "      <td>...</td>\n",
       "      <td>33.4</td>\n",
       "      <td>0</td>\n",
       "      <td>0</td>\n",
       "      <td>1</td>\n",
       "      <td>0</td>\n",
       "      <td>0</td>\n",
       "      <td>0</td>\n",
       "      <td>0</td>\n",
       "      <td>0</td>\n",
       "      <td>0</td>\n",
       "    </tr>\n",
       "    <tr>\n",
       "      <th>4</th>\n",
       "      <td>-0.052144</td>\n",
       "      <td>0.00</td>\n",
       "      <td>0.063050</td>\n",
       "      <td>0</td>\n",
       "      <td>0.150206</td>\n",
       "      <td>1.271680</td>\n",
       "      <td>0.528321</td>\n",
       "      <td>0.924391</td>\n",
       "      <td>0.066794</td>\n",
       "      <td>-0.125000</td>\n",
       "      <td>...</td>\n",
       "      <td>36.2</td>\n",
       "      <td>0</td>\n",
       "      <td>0</td>\n",
       "      <td>1</td>\n",
       "      <td>0</td>\n",
       "      <td>0</td>\n",
       "      <td>0</td>\n",
       "      <td>0</td>\n",
       "      <td>0</td>\n",
       "      <td>0</td>\n",
       "    </tr>\n",
       "    <tr>\n",
       "      <th>5</th>\n",
       "      <td>-0.063048</td>\n",
       "      <td>0.00</td>\n",
       "      <td>0.063050</td>\n",
       "      <td>0</td>\n",
       "      <td>0.150206</td>\n",
       "      <td>0.300136</td>\n",
       "      <td>0.574665</td>\n",
       "      <td>0.924391</td>\n",
       "      <td>0.066794</td>\n",
       "      <td>-0.125000</td>\n",
       "      <td>...</td>\n",
       "      <td>28.7</td>\n",
       "      <td>0</td>\n",
       "      <td>0</td>\n",
       "      <td>1</td>\n",
       "      <td>0</td>\n",
       "      <td>0</td>\n",
       "      <td>0</td>\n",
       "      <td>0</td>\n",
       "      <td>0</td>\n",
       "      <td>0</td>\n",
       "    </tr>\n",
       "    <tr>\n",
       "      <th>6</th>\n",
       "      <td>-0.046792</td>\n",
       "      <td>1.00</td>\n",
       "      <td>0.271628</td>\n",
       "      <td>0</td>\n",
       "      <td>0.286008</td>\n",
       "      <td>-0.266260</td>\n",
       "      <td>0.656025</td>\n",
       "      <td>0.761936</td>\n",
       "      <td>0.236641</td>\n",
       "      <td>-1.375000</td>\n",
       "      <td>...</td>\n",
       "      <td>22.9</td>\n",
       "      <td>0</td>\n",
       "      <td>0</td>\n",
       "      <td>0</td>\n",
       "      <td>0</td>\n",
       "      <td>1</td>\n",
       "      <td>0</td>\n",
       "      <td>0</td>\n",
       "      <td>0</td>\n",
       "      <td>0</td>\n",
       "    </tr>\n",
       "    <tr>\n",
       "      <th>7</th>\n",
       "      <td>-0.031143</td>\n",
       "      <td>1.00</td>\n",
       "      <td>0.271628</td>\n",
       "      <td>0</td>\n",
       "      <td>0.286008</td>\n",
       "      <td>-0.049458</td>\n",
       "      <td>0.959835</td>\n",
       "      <td>0.888221</td>\n",
       "      <td>0.236641</td>\n",
       "      <td>-1.375000</td>\n",
       "      <td>...</td>\n",
       "      <td>27.1</td>\n",
       "      <td>0</td>\n",
       "      <td>0</td>\n",
       "      <td>0</td>\n",
       "      <td>0</td>\n",
       "      <td>1</td>\n",
       "      <td>0</td>\n",
       "      <td>0</td>\n",
       "      <td>0</td>\n",
       "      <td>0</td>\n",
       "    </tr>\n",
       "    <tr>\n",
       "      <th>8</th>\n",
       "      <td>-0.012592</td>\n",
       "      <td>1.00</td>\n",
       "      <td>0.271628</td>\n",
       "      <td>0</td>\n",
       "      <td>0.286008</td>\n",
       "      <td>-0.782520</td>\n",
       "      <td>1.000000</td>\n",
       "      <td>0.930835</td>\n",
       "      <td>0.236641</td>\n",
       "      <td>-1.375000</td>\n",
       "      <td>...</td>\n",
       "      <td>16.5</td>\n",
       "      <td>0</td>\n",
       "      <td>0</td>\n",
       "      <td>0</td>\n",
       "      <td>0</td>\n",
       "      <td>1</td>\n",
       "      <td>0</td>\n",
       "      <td>0</td>\n",
       "      <td>0</td>\n",
       "      <td>0</td>\n",
       "    </tr>\n",
       "    <tr>\n",
       "      <th>9</th>\n",
       "      <td>-0.024053</td>\n",
       "      <td>1.00</td>\n",
       "      <td>0.271628</td>\n",
       "      <td>0</td>\n",
       "      <td>0.286008</td>\n",
       "      <td>-0.277100</td>\n",
       "      <td>0.854789</td>\n",
       "      <td>1.095977</td>\n",
       "      <td>0.236641</td>\n",
       "      <td>-1.375000</td>\n",
       "      <td>...</td>\n",
       "      <td>18.9</td>\n",
       "      <td>0</td>\n",
       "      <td>0</td>\n",
       "      <td>0</td>\n",
       "      <td>0</td>\n",
       "      <td>1</td>\n",
       "      <td>0</td>\n",
       "      <td>0</td>\n",
       "      <td>0</td>\n",
       "      <td>0</td>\n",
       "    </tr>\n",
       "  </tbody>\n",
       "</table>\n",
       "<p>10 rows × 22 columns</p>\n",
       "</div>"
      ],
      "text/plain": [
       "       CRIM    ZN     INDUS  CHAS       NOX        RM       AGE       DIS  \\\n",
       "0 -0.069593  1.44  0.067815     0  0.314815  0.496612  0.641607  0.285777   \n",
       "1 -0.063755  0.00  0.242302     0  0.172840  0.287940  0.782698  0.569789   \n",
       "2 -0.063760  0.00  0.242302     0  0.172840  1.323171  0.599382  0.569789   \n",
       "3 -0.062347  0.00  0.063050     0  0.150206  1.069783  0.441813  0.924391   \n",
       "4 -0.052144  0.00  0.063050     0  0.150206  1.271680  0.528321  0.924391   \n",
       "5 -0.063048  0.00  0.063050     0  0.150206  0.300136  0.574665  0.924391   \n",
       "6 -0.046792  1.00  0.271628     0  0.286008 -0.266260  0.656025  0.761936   \n",
       "7 -0.031143  1.00  0.271628     0  0.286008 -0.049458  0.959835  0.888221   \n",
       "8 -0.012592  1.00  0.271628     0  0.286008 -0.782520  1.000000  0.930835   \n",
       "9 -0.024053  1.00  0.271628     0  0.286008 -0.277100  0.854789  1.095977   \n",
       "\n",
       "        TAX   PTRATIO  ...  MEDV  RAD_1  RAD_2  RAD_3  RAD_4  RAD_5  RAD_6  \\\n",
       "0  0.208015 -1.339286  ...  24.0      1      0      0      0      0      0   \n",
       "1  0.104962 -0.446429  ...  21.6      0      1      0      0      0      0   \n",
       "2  0.104962 -0.446429  ...  34.7      0      1      0      0      0      0   \n",
       "3  0.066794 -0.125000  ...  33.4      0      0      1      0      0      0   \n",
       "4  0.066794 -0.125000  ...  36.2      0      0      1      0      0      0   \n",
       "5  0.066794 -0.125000  ...  28.7      0      0      1      0      0      0   \n",
       "6  0.236641 -1.375000  ...  22.9      0      0      0      0      1      0   \n",
       "7  0.236641 -1.375000  ...  27.1      0      0      0      0      1      0   \n",
       "8  0.236641 -1.375000  ...  16.5      0      0      0      0      1      0   \n",
       "9  0.236641 -1.375000  ...  18.9      0      0      0      0      1      0   \n",
       "\n",
       "   RAD_7  RAD_8  RAD_24  \n",
       "0      0      0       0  \n",
       "1      0      0       0  \n",
       "2      0      0       0  \n",
       "3      0      0       0  \n",
       "4      0      0       0  \n",
       "5      0      0       0  \n",
       "6      0      0       0  \n",
       "7      0      0       0  \n",
       "8      0      0       0  \n",
       "9      0      0       0  \n",
       "\n",
       "[10 rows x 22 columns]"
      ]
     },
     "execution_count": 18,
     "metadata": {},
     "output_type": "execute_result"
    }
   ],
   "source": [
    "from sklearn import preprocessing\n",
    "\n",
    "MinMax_scaler = preprocessing.MinMaxScaler().fit(house_pre[['INDUS', 'NOX', 'AGE', 'TAX']])\n",
    "house_pre[['INDUS', 'NOX', 'AGE', 'TAX']] = MinMax_scaler.transform(house_pre[['INDUS', 'NOX', 'AGE', 'TAX']])\n",
    "\n",
    "house_pre.head(10)"
   ]
  },
  {
   "cell_type": "markdown",
   "id": "89dcaeee",
   "metadata": {},
   "source": [
    "#### TRAIN / TEST  (75/25)"
   ]
  },
  {
   "cell_type": "markdown",
   "id": "5f7cf6df",
   "metadata": {},
   "source": [
    "Ara separarem les dades del preprocessat en Train (75%) i test (25%). Com ja ho sabem, el nostre target és 'MEDV'"
   ]
  },
  {
   "cell_type": "code",
   "execution_count": 19,
   "id": "acb81cd3",
   "metadata": {},
   "outputs": [],
   "source": [
    "from sklearn.model_selection import train_test_split\n",
    "\n",
    "X = house_pre.drop(['MEDV'], axis = 1)\n",
    "y = house_pre[['MEDV']]\n",
    "\n",
    "X_train, X_test, y_train, y_test = train_test_split(X, y, test_size=0.25)"
   ]
  },
  {
   "cell_type": "code",
   "execution_count": 20,
   "id": "dbb76984",
   "metadata": {},
   "outputs": [
    {
     "name": "stdout",
     "output_type": "stream",
     "text": [
      "(379, 21)\n",
      "(127, 21)\n",
      "(379, 1)\n",
      "(127, 1)\n"
     ]
    }
   ],
   "source": [
    "print(X_train.shape)\n",
    "print(X_test.shape)\n",
    "print(y_train.shape)\n",
    "print(y_test.shape)"
   ]
  },
  {
   "cell_type": "markdown",
   "id": "f98d2653",
   "metadata": {},
   "source": [
    "### Aplicant els Models"
   ]
  },
  {
   "cell_type": "markdown",
   "id": "14a22588",
   "metadata": {},
   "source": [
    "Ara explorarem dos algoritmes d'aprenentatge automatitzat enfocats a tasques de regressió. Primer de tot farem servir la regressió Linial"
   ]
  },
  {
   "cell_type": "markdown",
   "id": "fb644780",
   "metadata": {},
   "source": [
    "### Model de Regressió Linial\n",
    "\n",
    "1. Crearem l'objecte que farem servir per entrenar el model - 'lr'.\n",
    "2. Entrenarem el model amb les dades de l'entrenament i ajustarem els paràmetres del model - '.fit()'.\n",
    "3. Farem la predicció amb les dades de prova - '.predict'.\n",
    "4. Mostrarem prediccions per als primers registres del dataset - '[]'."
   ]
  },
  {
   "cell_type": "code",
   "execution_count": 21,
   "id": "ef0b1151",
   "metadata": {},
   "outputs": [
    {
     "data": {
      "text/plain": [
       "array([[17.23329348],\n",
       "       [19.10206684],\n",
       "       [24.94756221],\n",
       "       [34.37092973],\n",
       "       [24.70431312],\n",
       "       [17.94246226],\n",
       "       [18.84205195],\n",
       "       [19.53884034],\n",
       "       [17.26352846]])"
      ]
     },
     "execution_count": 21,
     "metadata": {},
     "output_type": "execute_result"
    }
   ],
   "source": [
    "from sklearn.linear_model import LinearRegression\n",
    "\n",
    "#1\n",
    "lr = LinearRegression()\n",
    "\n",
    "#2\n",
    "lr.fit(X_train, y_train)\n",
    "\n",
    "#3\n",
    "y_predic_lr = lr.predict(X_test)\n",
    "\n",
    "#4\n",
    "y_predic_lr[1:10]"
   ]
  },
  {
   "cell_type": "markdown",
   "id": "8d8798f9",
   "metadata": {},
   "source": [
    "### Model SVR (Support Vector Regression)"
   ]
  },
  {
   "cell_type": "markdown",
   "id": "f7454c22",
   "metadata": {},
   "source": [
    "1. Crearem l'objecte que farem servir per entrenar el model - 'lr'.\n",
    "2. Entrenarem el model amb les dades de l'entrenament i ajustarem els paràmetres del model - '.fit()'.\n",
    "3. Farem la predicció amb les dades de prova - '.predict'.\n",
    "4. Mostrarem prediccions per als primers registres del dataset - '[]'."
   ]
  },
  {
   "cell_type": "code",
   "execution_count": 22,
   "id": "40bbdf55",
   "metadata": {},
   "outputs": [
    {
     "data": {
      "text/plain": [
       "array([21.69144   , 19.97635087, 25.53655044, 30.61249182, 23.6309241 ,\n",
       "       16.71674871, 19.03139857, 19.16565616, 16.93597664])"
      ]
     },
     "execution_count": 22,
     "metadata": {},
     "output_type": "execute_result"
    }
   ],
   "source": [
    "from sklearn.svm import SVR\n",
    "\n",
    "#1\n",
    "supvr = SVR()\n",
    "\n",
    "#2\n",
    "supvr.fit(X_train, y_train)\n",
    "\n",
    "#3\n",
    "y_predic_supvr = supvr.predict(X_test)\n",
    "\n",
    "#4\n",
    "y_predic_supvr[1:10]"
   ]
  },
  {
   "cell_type": "markdown",
   "id": "7ff0f72a",
   "metadata": {},
   "source": [
    "**Finalment hem fet la predicció per als dos models proposats, agafant els primers nou registres del dataset.**"
   ]
  },
  {
   "cell_type": "markdown",
   "id": "a8f4fb49",
   "metadata": {},
   "source": [
    "Ara per tal de tenir una millor visualització de com es distribueixen les dades dels dos models respecte de les dades del Test, farem una representación gràfica a través de models de densitat."
   ]
  },
  {
   "cell_type": "markdown",
   "id": "ddb550b9",
   "metadata": {},
   "source": [
    "*Una de les coses que s'ha de tenir en els models d'aprenentatge automatizat es tenir arrays d'una dimensió. per tant ara abans de fer la representació hem triat assegurarnos de convertir l'array test i les seves prediccions amb el \"lr\" i el \"supvr\" en un array d'una dimensió*."
   ]
  },
  {
   "cell_type": "code",
   "execution_count": 23,
   "id": "8e41f839",
   "metadata": {},
   "outputs": [],
   "source": [
    "y_test = np.array(y_test).ravel()\n",
    "y_predic_lr = y_predic_lr.ravel() \n",
    "y_predic_supvr = y_predic_supvr.ravel()"
   ]
  },
  {
   "cell_type": "markdown",
   "id": "cbde4337",
   "metadata": {},
   "source": [
    "#### Representación gràfica dels nostres models vs el nostra test."
   ]
  },
  {
   "cell_type": "code",
   "execution_count": 24,
   "id": "2c79b273",
   "metadata": {
    "scrolled": true
   },
   "outputs": [
    {
     "data": {
      "image/png": "[encoded data removed]",
      "text/plain": [
       "<Figure size 1080x576 with 1 Axes>"
      ]
     },
     "metadata": {
      "needs_background": "light"
     },
     "output_type": "display_data"
    }
   ],
   "source": [
    "fig, ax = plt.subplots(figsize=(15,8))\n",
    "sns.set(style= \"whitegrid\")\n",
    "\n",
    "sns.kdeplot(y_predic_supvr, label='SVR', color='#62EF6B', fill=False)\n",
    "sns.kdeplot(y_predic_lr, label='LR', color='#627AEF', fill=False)\n",
    "sns.kdeplot(y_test, label='Test', color='#EF62DE', fill=True)\n",
    "plt.title(\"Test vs Models\", fontsize = 18)\n",
    "plt.ylabel('Intensitat de la concentració', fontsize = 16)\n",
    "plt.legend(bbox_to_anchor=(1.05, 1), loc='upper right')\n",
    "plt.show()"
   ]
  },
  {
   "cell_type": "markdown",
   "id": "dc528bf3",
   "metadata": {},
   "source": [
    "Veiem que els models tenen una distribució i ajustament diferent en relació al test. Per una banda veiem que el Model de Regressió Lineal (en blau) té un comportament de les seves dades amb un ajustament millor que el SVR. Si només analitzem gràficament els models podriem dir que la regresió lineal hauria de tenir errors més baixos que que el SVR respecte del test. Però com sempre, aixó ho hem de corroborar amb mètriques i per tant evaluarem els dos models amb dues diferents mètriques que ens serviran per mesurar els seus errors."
   ]
  },
  {
   "cell_type": "markdown",
   "id": "d8ac2d09",
   "metadata": {},
   "source": [
    "### Exercici 2\n",
    "\n",
    "* Compara’ls en base al MSE i al R2."
   ]
  },
  {
   "cell_type": "markdown",
   "id": "50e574ae",
   "metadata": {},
   "source": [
    "*Primer de tot farem servir el **MSE (Mean Square Error)**. Amb aquesta mesura evaluarem la qualitat de l'ajustament entre els valors obvservats i els predits. Tècnicament, mesura la mitjana de la magnitud dels errors quadràtics entre la regressió i els punts obvservats. Una cosa molt importan a dir és qué el MSE s'expressa en les mateixes unitats que la variable de resposta.*"
   ]
  },
  {
   "cell_type": "code",
   "execution_count": 25,
   "id": "c437f1ee",
   "metadata": {},
   "outputs": [],
   "source": [
    "from sklearn.metrics import mean_squared_error, r2_score\n",
    "\n",
    "lr_MSE = mean_squared_error(y_test, y_predic_lr)\n",
    "supvr_MSE = mean_squared_error(y_test, y_predic_supvr)"
   ]
  },
  {
   "cell_type": "markdown",
   "id": "0041edeb",
   "metadata": {},
   "source": [
    "Ara calcularem el **R2 (Coeficient de determinació)**. Dit de manera senzilla, el coeficient de determinació R2 és la força de la correlació explicada pel model entre la resposta i la variable independent. Un valor alt de R2 indica que el model s'ajusta bé a les dades. Aquesta mesura s'expressa com un percentatge."
   ]
  },
  {
   "cell_type": "code",
   "execution_count": 26,
   "id": "26d259ed",
   "metadata": {},
   "outputs": [],
   "source": [
    "lr_R2 = r2_score(y_test, y_predic_lr)\n",
    "supvr_R2 = r2_score(y_test, y_predic_supvr)"
   ]
  },
  {
   "cell_type": "markdown",
   "id": "89be3356",
   "metadata": {},
   "source": [
    "Ara crearem un nou dataframe per fer una visualització de la comparativa."
   ]
  },
  {
   "cell_type": "code",
   "execution_count": 27,
   "id": "25589cd3",
   "metadata": {
    "scrolled": true
   },
   "outputs": [
    {
     "data": {
      "text/html": [
       "<div>\n",
       "<style scoped>\n",
       "    .dataframe tbody tr th:only-of-type {\n",
       "        vertical-align: middle;\n",
       "    }\n",
       "\n",
       "    .dataframe tbody tr th {\n",
       "        vertical-align: top;\n",
       "    }\n",
       "\n",
       "    .dataframe thead th {\n",
       "        text-align: right;\n",
       "    }\n",
       "</style>\n",
       "<table border=\"1\" class=\"dataframe\">\n",
       "  <thead>\n",
       "    <tr style=\"text-align: right;\">\n",
       "      <th></th>\n",
       "      <th>Tipus de Model</th>\n",
       "      <th>MSE</th>\n",
       "      <th>R2</th>\n",
       "    </tr>\n",
       "  </thead>\n",
       "  <tbody>\n",
       "    <tr>\n",
       "      <th>0</th>\n",
       "      <td>Linear Regression</td>\n",
       "      <td>23.887</td>\n",
       "      <td>0.742</td>\n",
       "    </tr>\n",
       "    <tr>\n",
       "      <th>1</th>\n",
       "      <td>Support Vector Regression</td>\n",
       "      <td>37.900</td>\n",
       "      <td>0.591</td>\n",
       "    </tr>\n",
       "  </tbody>\n",
       "</table>\n",
       "</div>"
      ],
      "text/plain": [
       "              Tipus de Model     MSE     R2\n",
       "0          Linear Regression  23.887  0.742\n",
       "1  Support Vector Regression  37.900  0.591"
      ]
     },
     "execution_count": 27,
     "metadata": {},
     "output_type": "execute_result"
    }
   ],
   "source": [
    "mesures=pd.DataFrame(data=[['Linear Regression', lr_MSE, lr_R2],['Support Vector Regression', supvr_MSE, supvr_R2]], columns=['Tipus de Model', 'MSE', 'R2'])\n",
    "mesures.round(3)"
   ]
  },
  {
   "cell_type": "markdown",
   "id": "503f5f36",
   "metadata": {},
   "source": [
    "#### Comentaris"
   ]
  },
  {
   "cell_type": "markdown",
   "id": "2855f344",
   "metadata": {},
   "source": [
    "Desprès de calcular aquests dos tipus d'errors pels dos tipus de models proposats, estem en condicions de dir que el anàlisi gràfic preliminar tenia sentit. Ara tenim dades per dir qué (almenys) per aquests dos tipus d'errors, el model de Regressió Linial ajusta le seve equació millor que el SVR pel conjunt de dades del test. El R2 és major en la regressió per tant podem dir que en aquest cas tindrem una força de correlació més potent i podríem operar amb un millor nivell de confiança (74% vs 59%). Per un altre banda el MSE ens indica qué per a la regressió també podríem treballar amb un nivell de qualitat major (23 vs 37) pel major nivell d'ajustament entre els valors observats i predits.\n",
    "\n",
    "Finalment si mirem l'análisi amb una perspectiva més àmplia podríem dir que tant el R2 com el MSE són perfectamentep perfectibles. Si bé tenim valors qué podríem dir qué són bons, ja veiem que tenim marge per millorar-lo. Potser amb una base dades més robusta amb un set d'entrenament més potent que els 379 registres de train i 127 de test, milloraria una mica més els valors d'error. Però en aquest cas farem un altre cosa qué serà intentar millorar la qualitat de la regressió però modificant els paràmetres que per defecte hem utilitzat amb els models."
   ]
  },
  {
   "cell_type": "markdown",
   "id": "81d55807",
   "metadata": {},
   "source": [
    "### Exercici 3\n",
    "\n",
    "Entrena’ls utilitzant els diferents paràmetres que admeten per intentar millorar-ne la predicció."
   ]
  },
  {
   "cell_type": "markdown",
   "id": "b0291d2c",
   "metadata": {},
   "source": [
    "*Primer de tot hem de conèixer quins són els paràmetres que hem fet servir per defecte en el models proposats*"
   ]
  },
  {
   "cell_type": "code",
   "execution_count": 28,
   "id": "5f27e4ed",
   "metadata": {},
   "outputs": [
    {
     "name": "stdout",
     "output_type": "stream",
     "text": [
      "Paràmetres per defecte en el model de Regressió: \n",
      " {'copy_X': True, 'fit_intercept': True, 'n_jobs': None, 'normalize': 'deprecated', 'positive': False}\n"
     ]
    }
   ],
   "source": [
    "print(\"Paràmetres per defecte en el model de Regressió: \\n\", lr.get_params())"
   ]
  },
  {
   "cell_type": "markdown",
   "id": "2e8bbb4d",
   "metadata": {},
   "source": [
    "Ara que ja coneixem els paràmetres utilitzats per defecte farem servir la funció **GridsearchCV** per trobar de manera automàtica la comabinació òptima. Amb això ajudarem a evitar el sobreajustament del model. Primer de tot, crearem un diccionari que ens servirà com a xarxa de valors per a cada paràmetre que és vulgui ajustar.\n",
    "\n",
    "Com hem vist el paràmetre 'normalize' es troba en desús i probablement serà eliminada de la biblioteca en versions posteriors. Però, hem vist qué de totes maneres podriem fer servir l'opció 'True' en el cas de no haver aplicat técniques de preprocessament (com MinMaxscaler) per normalizar les dades. Com ja ho hem fet doncs no té sentit replicar-ho fins i tot en un paràmetre en desús."
   ]
  },
  {
   "cell_type": "code",
   "execution_count": 29,
   "id": "155e98de",
   "metadata": {},
   "outputs": [],
   "source": [
    "from sklearn.model_selection import GridSearchCV\n",
    "\n",
    "xarxa_lr = {'copy_X':(True, False),\n",
    "           'fit_intercept':(True, False),\n",
    "           'n_jobs':(-1, None, 1),\n",
    "           'positive':(True, False)}"
   ]
  },
  {
   "cell_type": "markdown",
   "id": "33233409",
   "metadata": {},
   "source": [
    "* #1 Ara crearem l'objecte on farem servir la funció Gridsearch i aplicarem la xarxa creada pel model de regressió. \n",
    "* #2 Desprès crearem un altre objecte on trobarem els millors paràmetres en les nostres dades d'entrenament.\n",
    "* #3 Finalment ho imprimirem per saber quins seràn els millors nous hiperparàmetres del model de regressió."
   ]
  },
  {
   "cell_type": "code",
   "execution_count": 30,
   "id": "5cc88996",
   "metadata": {},
   "outputs": [
    {
     "name": "stdout",
     "output_type": "stream",
     "text": [
      "Millors paràmetres model de regressión 'LR': {'copy_X': True, 'fit_intercept': False, 'n_jobs': -1, 'positive': False}\n"
     ]
    }
   ],
   "source": [
    "#1\n",
    "grid_lr = GridSearchCV(lr, xarxa_lr)\n",
    "\n",
    "#2\n",
    "best_par_lr = grid_lr.fit(X_train, y_train)\n",
    "\n",
    "#3\n",
    "print(\"Millors paràmetres model de regressión 'LR':\", best_par_lr.best_params_)"
   ]
  },
  {
   "cell_type": "markdown",
   "id": "96e122b5",
   "metadata": {},
   "source": [
    "#### Millorant el model de regressió"
   ]
  },
  {
   "cell_type": "markdown",
   "id": "c37a8be2",
   "metadata": {},
   "source": [
    "Ara que ja tenim el nostres nous millors paràmetres, haurem d'aplicarl-los en el nostra model de regressió novament. Podem veure qué 'fit_intercept' i 'n_jobs' han canviat. Per tant, aquestes seràn les modificacions que farem. Aplicarem novament els dos tipus d'errors per mirar si ha millorat o no."
   ]
  },
  {
   "cell_type": "code",
   "execution_count": 35,
   "id": "2f254a56",
   "metadata": {},
   "outputs": [
    {
     "name": "stdout",
     "output_type": "stream",
     "text": [
      "lr_MSE_millor: 23.887420137225206 \n",
      "lr_R2_millor: 0.7419306624197965\n"
     ]
    }
   ],
   "source": [
    "lr_millor = LinearRegression(fit_intercept=False, n_jobs=-1)\n",
    "lr_millor.fit(X_train, y_train)\n",
    "y_predic_lr_millor = lr_millor.predict(X_test)\n",
    "\n",
    "lr_MSE_millor = mean_squared_error(y_test, y_predic_lr_millor)\n",
    "lr_R2_millor = r2_score(y_test, y_predic_lr_millor)\n",
    "\n",
    "print(\"lr_MSE_millor:\", lr_MSE_millor, \"\\nlr_R2_millor:\", lr_R2_millor)"
   ]
  },
  {
   "cell_type": "markdown",
   "id": "fb319529",
   "metadata": {},
   "source": [
    "#### Modificant els paràmetres del model SVR"
   ]
  },
  {
   "cell_type": "markdown",
   "id": "a19399f7",
   "metadata": {},
   "source": [
    "Ara farem pràcticament els mateixos passos fets amb la regressió, però ara per millorar l'ajustament del model SVR. L'única gran diferència seran els paràmetres a modificar, perqué és un model diferent. Dit això no farem una descripció en detall del passos com en el primer model."
   ]
  },
  {
   "cell_type": "code",
   "execution_count": 32,
   "id": "4227eee7",
   "metadata": {},
   "outputs": [
    {
     "name": "stdout",
     "output_type": "stream",
     "text": [
      "Paràmetres per defecte en el model SVR: \n",
      " {'C': 1.0, 'cache_size': 200, 'coef0': 0.0, 'degree': 3, 'epsilon': 0.1, 'gamma': 'scale', 'kernel': 'rbf', 'max_iter': -1, 'shrinking': True, 'tol': 0.001, 'verbose': False}\n"
     ]
    }
   ],
   "source": [
    "print(\"Paràmetres per defecte en el model SVR: \\n\", supvr.get_params())"
   ]
  },
  {
   "cell_type": "markdown",
   "id": "464a3968",
   "metadata": {},
   "source": [
    "Fent una ràpida recerca si acotem a 5 paràmetres podriem quedar-nos amb els que veurem a continuació:"
   ]
  },
  {
   "cell_type": "code",
   "execution_count": 34,
   "id": "605a6800",
   "metadata": {},
   "outputs": [
    {
     "name": "stdout",
     "output_type": "stream",
     "text": [
      "Millors paràmetres model SVR són: {'C': 10, 'coef0': 0.0, 'degree': 3, 'gamma': 'auto', 'kernel': 'rbf'}\n"
     ]
    }
   ],
   "source": [
    "from sklearn.model_selection import GridSearchCV\n",
    "\n",
    "xarxa_supvr = {'kernel':('linear', 'poly', 'rbf', 'sigmoid'),\n",
    "               'C':[1,5,10],\n",
    "               'degree':[3,6,8],\n",
    "               'coef0':[0.0,0.5,1],\n",
    "               'gamma':('scale','auto')}\n",
    "\n",
    "#1\n",
    "grid_supvr = GridSearchCV(supvr, xarxa_supvr)\n",
    "\n",
    "#2\n",
    "best_par_supvr = grid_supvr.fit(X_train, y_train)\n",
    "\n",
    "#3\n",
    "print(\"Millors paràmetres model SVR:\", best_par_supvr.best_params_)"
   ]
  },
  {
   "cell_type": "markdown",
   "id": "626326d2",
   "metadata": {},
   "source": [
    "#### Millorant el model SVR"
   ]
  },
  {
   "cell_type": "code",
   "execution_count": 36,
   "id": "5f9e67fb",
   "metadata": {},
   "outputs": [
    {
     "name": "stdout",
     "output_type": "stream",
     "text": [
      "supvr_MSE_millor: 17.410456536236428 \n",
      "supvr_R2_millor: 0.8119049709234367\n"
     ]
    }
   ],
   "source": [
    "supvr_millor = SVR(C=10, gamma='auto')\n",
    "supvr_millor.fit(X_train, y_train)\n",
    "y_predic_supvr_millor = supvr_millor.predict(X_test)\n",
    "\n",
    "supvr_MSE_millor = mean_squared_error(y_test, y_predic_supvr_millor)\n",
    "supvr_R2_millor = r2_score(y_test, y_predic_supvr_millor)\n",
    "\n",
    "print(\"supvr_MSE_millor:\", supvr_MSE_millor, \"\\nsupvr_R2_millor:\", supvr_R2_millor)"
   ]
  },
  {
   "cell_type": "markdown",
   "id": "a74eec6e",
   "metadata": {},
   "source": [
    "### Resumint l'informació"
   ]
  },
  {
   "cell_type": "markdown",
   "id": "557192d8",
   "metadata": {},
   "source": [
    "Ara que ja tenim novas versions dels models producte de les millores que hem fet canviant alguns paràmetres, agafarem el nostre dataframe \"mesures\" i el complementarem amb la nova informació. Així mateix tindrem una vista ràpida i pràctica de quin és el model que ha donat millors resultats."
   ]
  },
  {
   "cell_type": "code",
   "execution_count": 80,
   "id": "de3b3dac",
   "metadata": {
    "scrolled": false
   },
   "outputs": [],
   "source": [
    "mesures_millor = pd.DataFrame(data = [['Linear Regression millor', lr_MSE_millor, lr_R2_millor], ['Support Vector Regression millor', supvr_MSE_millor, supvr_R2_millor]], columns = ['Tipus de Model', 'MSE', 'R2'])\n",
    "mesures = mesures.append(mesures_millor, ignore_index=True)"
   ]
  },
  {
   "cell_type": "code",
   "execution_count": 83,
   "id": "1bb3db92",
   "metadata": {},
   "outputs": [
    {
     "data": {
      "text/html": [
       "<div>\n",
       "<style scoped>\n",
       "    .dataframe tbody tr th:only-of-type {\n",
       "        vertical-align: middle;\n",
       "    }\n",
       "\n",
       "    .dataframe tbody tr th {\n",
       "        vertical-align: top;\n",
       "    }\n",
       "\n",
       "    .dataframe thead th {\n",
       "        text-align: right;\n",
       "    }\n",
       "</style>\n",
       "<table border=\"1\" class=\"dataframe\">\n",
       "  <thead>\n",
       "    <tr style=\"text-align: right;\">\n",
       "      <th></th>\n",
       "      <th>Tipus de Model</th>\n",
       "      <th>MSE</th>\n",
       "      <th>R2</th>\n",
       "      <th>R2 Cross Val</th>\n",
       "    </tr>\n",
       "  </thead>\n",
       "  <tbody>\n",
       "    <tr>\n",
       "      <th>0</th>\n",
       "      <td>Linear Regression</td>\n",
       "      <td>23.887420</td>\n",
       "      <td>0.741931</td>\n",
       "      <td>0.325008</td>\n",
       "    </tr>\n",
       "    <tr>\n",
       "      <th>1</th>\n",
       "      <td>Support Vector Regression</td>\n",
       "      <td>37.899717</td>\n",
       "      <td>0.590548</td>\n",
       "      <td>0.223777</td>\n",
       "    </tr>\n",
       "    <tr>\n",
       "      <th>2</th>\n",
       "      <td>Lineal Regression millor</td>\n",
       "      <td>23.887420</td>\n",
       "      <td>0.741931</td>\n",
       "      <td>0.325008</td>\n",
       "    </tr>\n",
       "    <tr>\n",
       "      <th>3</th>\n",
       "      <td>Support Vector Regression millor</td>\n",
       "      <td>17.410457</td>\n",
       "      <td>0.811905</td>\n",
       "      <td>0.486263</td>\n",
       "    </tr>\n",
       "  </tbody>\n",
       "</table>\n",
       "</div>"
      ],
      "text/plain": [
       "                     Tipus de Model        MSE        R2  R2 Cross Val\n",
       "0                 Linear Regression  23.887420  0.741931      0.325008\n",
       "1         Support Vector Regression  37.899717  0.590548      0.223777\n",
       "2          Lineal Regression millor  23.887420  0.741931      0.325008\n",
       "3  Support Vector Regression millor  17.410457  0.811905      0.486263"
      ]
     },
     "execution_count": 83,
     "metadata": {},
     "output_type": "execute_result"
    }
   ],
   "source": [
    "mesures"
   ]
  },
  {
   "cell_type": "markdown",
   "id": "52cf650c",
   "metadata": {},
   "source": [
    "### Comentaris "
   ]
  },
  {
   "cell_type": "markdown",
   "id": "8e61aaac",
   "metadata": {},
   "source": [
    "A través del canvi de paràmetres hem vist com un model que semblava pitjor que l'altre pot acabar sent millor. El principi la regressió linial ens donava un MSE més baix i un R2 més alt que el model SVR. Però, hem vist com la modificación de només un parell de paràmetres en el model SVR ha fet un canvi substancial baixant el MSE en més d'un 50% i millorant el R2 més de dues décimes (o més de 20% d'explicació de variança).\n",
    "\n",
    "Només amb dos paràmetres el model ha millorat força, per tant per a més andavant penso que hauríem de fer una millor recerca dels paràmetres encara, perquè aquests resultats ens parlen de qué un model es pot millorar encara més."
   ]
  },
  {
   "cell_type": "markdown",
   "id": "02aad72c",
   "metadata": {},
   "source": [
    "### Exercici 4\n",
    "\n",
    "Compara el seu rendiment emprant l’aproximació traint/test o emprant totes les dades (validació interna)."
   ]
  },
  {
   "cell_type": "markdown",
   "id": "3d7aa1df",
   "metadata": {},
   "source": [
    "El que farem ara serà una validació creuada del model per tal d'evaluar el seu rendiment de manera més robusta. Farem que el modelo iteri a través de 5 particions i qué el scoring sigui el coeficient de determinació R2. A més a més hem investigat qué aquesta validació serveix molt per ajustar els paràmetres del model, perquè en cada iteració del model és pot ajustar els diferents paràmetres i així triar la millor combinació.\n",
    "\n",
    "Com que ja hem fet la millora de paràmetres ara no cal torna a fer-les, sobretot perquè no tenim temps. No obstant això, ho considerarem per a més endavant.\n",
    "\n",
    "Tornarem a agafar el nostre dataframe resumen \"mesures\" i el complementarem amb el resultat del R2 però amb la validación creuada.\n",
    "\n",
    "Finalment tornarem a fer els gràfics dels exercicis anteriors però ara afegint els resultats dels úlrims models."
   ]
  },
  {
   "cell_type": "code",
   "execution_count": 41,
   "id": "66097d8b",
   "metadata": {},
   "outputs": [],
   "source": [
    "from sklearn.model_selection import cross_val_score\n",
    "\n",
    "cross_lr = cross_val_score(lr, X, y, cv=5, scoring='r2')\n",
    "cross_supvr = cross_val_score(supvr, X, y, cv=5, scoring='r2')\n",
    "cross_lr_millor = cross_val_score(lr_millor, X, y, cv=5, scoring='r2')\n",
    "cross_supvr_millor = cross_val_score(supvr_millor, X, y, cv=5, scoring='r2')"
   ]
  },
  {
   "cell_type": "code",
   "execution_count": 48,
   "id": "f4d759b8",
   "metadata": {},
   "outputs": [
    {
     "name": "stdout",
     "output_type": "stream",
     "text": [
      "Cross_lr: [ 0.61238312  0.74278118  0.5536421   0.08098992 -0.36475742] \n",
      "Cross_supvr: [ 0.66258474  0.54237834  0.08301845  0.27511001 -0.4442057 ] \n",
      "Cross_lr_millor: [ 0.61238312  0.74278118  0.5536421   0.08098992 -0.36475742] \n",
      "Cross_supvr_millor: [ 0.84215674  0.8073143   0.76645859  0.41766697 -0.4022804 ]\n"
     ]
    }
   ],
   "source": [
    "print(\"Cross_lr:\", cross_lr, \"\\nCross_supvr:\", cross_supvr, \"\\nCross_lr_millor:\", cross_lr_millor, \"\\nCross_supvr_millor:\", cross_supvr_millor)\n"
   ]
  },
  {
   "cell_type": "code",
   "execution_count": 49,
   "id": "608db9aa",
   "metadata": {},
   "outputs": [
    {
     "data": {
      "text/html": [
       "<div>\n",
       "<style scoped>\n",
       "    .dataframe tbody tr th:only-of-type {\n",
       "        vertical-align: middle;\n",
       "    }\n",
       "\n",
       "    .dataframe tbody tr th {\n",
       "        vertical-align: top;\n",
       "    }\n",
       "\n",
       "    .dataframe thead th {\n",
       "        text-align: right;\n",
       "    }\n",
       "</style>\n",
       "<table border=\"1\" class=\"dataframe\">\n",
       "  <thead>\n",
       "    <tr style=\"text-align: right;\">\n",
       "      <th></th>\n",
       "      <th>Tipus de Model</th>\n",
       "      <th>MSE</th>\n",
       "      <th>R2</th>\n",
       "      <th>R2 Cross Val</th>\n",
       "    </tr>\n",
       "  </thead>\n",
       "  <tbody>\n",
       "    <tr>\n",
       "      <th>0</th>\n",
       "      <td>Linear Regression</td>\n",
       "      <td>23.887420</td>\n",
       "      <td>0.741931</td>\n",
       "      <td>0.325008</td>\n",
       "    </tr>\n",
       "    <tr>\n",
       "      <th>1</th>\n",
       "      <td>Support Vector Regression</td>\n",
       "      <td>37.899717</td>\n",
       "      <td>0.590548</td>\n",
       "      <td>0.223777</td>\n",
       "    </tr>\n",
       "    <tr>\n",
       "      <th>2</th>\n",
       "      <td>Lineal Regression millor</td>\n",
       "      <td>23.887420</td>\n",
       "      <td>0.741931</td>\n",
       "      <td>0.325008</td>\n",
       "    </tr>\n",
       "    <tr>\n",
       "      <th>3</th>\n",
       "      <td>Support Vector Regression millor</td>\n",
       "      <td>17.410457</td>\n",
       "      <td>0.811905</td>\n",
       "      <td>0.486263</td>\n",
       "    </tr>\n",
       "  </tbody>\n",
       "</table>\n",
       "</div>"
      ],
      "text/plain": [
       "                     Tipus de Model        MSE        R2  R2 Cross Val\n",
       "0                 Linear Regression  23.887420  0.741931      0.325008\n",
       "1         Support Vector Regression  37.899717  0.590548      0.223777\n",
       "2          Lineal Regression millor  23.887420  0.741931      0.325008\n",
       "3  Support Vector Regression millor  17.410457  0.811905      0.486263"
      ]
     },
     "execution_count": 49,
     "metadata": {},
     "output_type": "execute_result"
    }
   ],
   "source": [
    "mesures['R2 Cross Val'] = [cross_lr.mean(), cross_supvr.mean(), cross_lr_millor.mean(), cross_supvr_millor.mean()]\n",
    "mesures"
   ]
  },
  {
   "cell_type": "markdown",
   "id": "6c93b32a",
   "metadata": {},
   "source": [
    "Veiem que desprès de fer la validació creuada tots el R2 de tots els models es troben més baixos. Com havíem dit abans la validació creuada és un mètode més rigorós. Això vol dir qué normalment el R2 serà més baix que en el càlcul d'aquesta mètrica per tot un conjunt sencer d'entrenament per una banda i de prova d'altre."
   ]
  },
  {
   "cell_type": "code",
   "execution_count": 52,
   "id": "414b33a3",
   "metadata": {},
   "outputs": [
    {
     "data": {
      "image/png": "[encoded data removed]",
      "text/plain": [
       "<Figure size 1080x576 with 1 Axes>"
      ]
     },
     "metadata": {},
     "output_type": "display_data"
    }
   ],
   "source": [
    "fig, ax = plt.subplots(figsize=(15,8))\n",
    "sns.set(style= \"whitegrid\")\n",
    "\n",
    "sns.kdeplot(y_predic_supvr, label='SVR', color='#62EF6B', fill=False)\n",
    "sns.kdeplot(y_predic_lr, label='LR', color='#627AEF', fill=False)\n",
    "sns.kdeplot(y_predic_supvr_millor, label='SVR_MIllor', color='#EA1A2D', fill=False)\n",
    "sns.kdeplot(y_test, label='Test', color='#EF62DE', fill=True)\n",
    "\n",
    "plt.title(\"Test vs Models\", fontsize = 18)\n",
    "plt.ylabel('Intensitat de la concentració', fontsize = 16)\n",
    "plt.legend(bbox_to_anchor=(1.05, 1), loc='upper right')\n",
    "plt.show()"
   ]
  },
  {
   "cell_type": "markdown",
   "id": "c1ad1580",
   "metadata": {},
   "source": [
    "Tots els models veiem que prediuen una alçada de la curva molt més alta qué el test. Però, si ens fixem en la línia vermella podem veure qué el R2 que ja hem vist es reflexa a la gràfica principalment perquè és la curva que millor s'justa a les sinuositats del test."
   ]
  },
  {
   "cell_type": "markdown",
   "id": "c25d47fc",
   "metadata": {},
   "source": [
    "### Exercici 5\n",
    "\n",
    "No facis servir la variable del nombre d'habitacions (RM) a l’hora de fer prediccions."
   ]
  },
  {
   "cell_type": "markdown",
   "id": "1287055f",
   "metadata": {},
   "source": [
    "El que farem ara serà tornar a evaluar un model de regressió i un model SVR pas a pas però sense la variable 'RM'. Per tant passarem ràpidament per tots els passos sense gaire explicació perqué ja l'hem fet."
   ]
  },
  {
   "cell_type": "markdown",
   "id": "4e67d25b",
   "metadata": {},
   "source": [
    "#### 1. Treiem la variable RM del nostra train"
   ]
  },
  {
   "cell_type": "code",
   "execution_count": 53,
   "id": "6a2c7b2b",
   "metadata": {},
   "outputs": [],
   "source": [
    "X_senRM = X.drop(['RM'], axis = 1)"
   ]
  },
  {
   "cell_type": "markdown",
   "id": "31db3ffd",
   "metadata": {},
   "source": [
    "#### 2. Dividim en train i test (75% / 25%)"
   ]
  },
  {
   "cell_type": "code",
   "execution_count": 55,
   "id": "35aa9c31",
   "metadata": {},
   "outputs": [],
   "source": [
    "X_senRMtrain, X_senRMtest, y_senRMtrain, y_senRMtest = train_test_split(X_senRM, y, test_size=0.25)"
   ]
  },
  {
   "cell_type": "markdown",
   "id": "4a0aa19d",
   "metadata": {},
   "source": [
    "#### 3. Produïm el model de Regressió"
   ]
  },
  {
   "cell_type": "code",
   "execution_count": 62,
   "id": "d2969596",
   "metadata": {},
   "outputs": [
    {
     "data": {
      "text/plain": [
       "array([[22.09633041],\n",
       "       [18.50734695],\n",
       "       [32.90571568],\n",
       "       [15.05506848],\n",
       "       [28.00467424],\n",
       "       [25.92006173],\n",
       "       [24.10988595],\n",
       "       [28.27277149],\n",
       "       [29.81942923]])"
      ]
     },
     "execution_count": 62,
     "metadata": {},
     "output_type": "execute_result"
    }
   ],
   "source": [
    "lr_senRM = LinearRegression()\n",
    "lr_senRM.fit(X_senRMtrain, y_senRMtrain)\n",
    "y_predic_lr_senRM = lr_senRM.predict(X_senRMtest)\n",
    "y_predic_lr_senRM[1:10]"
   ]
  },
  {
   "cell_type": "markdown",
   "id": "5d48c40f",
   "metadata": {},
   "source": [
    "#### 4. Produïm el model SVR"
   ]
  },
  {
   "cell_type": "code",
   "execution_count": 59,
   "id": "ee40ea0e",
   "metadata": {},
   "outputs": [
    {
     "data": {
      "text/plain": [
       "array([20.37120372, 23.98184921, 26.46700074, 14.33207104, 23.13666998,\n",
       "       23.8834037 , 19.0923177 , 22.45756652, 27.92172511])"
      ]
     },
     "execution_count": 59,
     "metadata": {},
     "output_type": "execute_result"
    }
   ],
   "source": [
    "supvr_senRM = SVR()\n",
    "supvr_senRM.fit(X_senRMtrain, y_senRMtrain)\n",
    "y_predic_supvr_senRM = supvr_senRM.predict(X_senRMtest)\n",
    "y_predic_supvr_senRM[1:10]"
   ]
  },
  {
   "cell_type": "markdown",
   "id": "4f58f5e7",
   "metadata": {},
   "source": [
    "#### 5. Produïm el model de regressió millorat"
   ]
  },
  {
   "cell_type": "code",
   "execution_count": 63,
   "id": "fd011a2e",
   "metadata": {},
   "outputs": [
    {
     "data": {
      "text/plain": [
       "array([[22.09633041],\n",
       "       [18.50734695],\n",
       "       [32.90571568],\n",
       "       [15.05506848],\n",
       "       [28.00467424],\n",
       "       [25.92006173],\n",
       "       [24.10988595],\n",
       "       [28.27277149],\n",
       "       [29.81942923]])"
      ]
     },
     "execution_count": 63,
     "metadata": {},
     "output_type": "execute_result"
    }
   ],
   "source": [
    "lr_millor_senRM = LinearRegression(fit_intercept=False, n_jobs=-1)\n",
    "lr_millor_senRM.fit(X_senRMtrain, y_senRMtrain)\n",
    "y_predic_lr_millor_senRM = lr_millor_senRM.predict(X_senRMtest)\n",
    "y_predic_lr_millor_senRM[1:10]"
   ]
  },
  {
   "cell_type": "markdown",
   "id": "b86a7b83",
   "metadata": {},
   "source": [
    "#### 6. Produïm el model SVR millorat"
   ]
  },
  {
   "cell_type": "code",
   "execution_count": 64,
   "id": "91d1f1f1",
   "metadata": {},
   "outputs": [
    {
     "data": {
      "text/plain": [
       "array([21.34417807, 20.38576538, 28.20178949, 14.43804317, 26.60347615,\n",
       "       23.32009397, 18.28135257, 25.35697746, 29.35255425])"
      ]
     },
     "execution_count": 64,
     "metadata": {},
     "output_type": "execute_result"
    }
   ],
   "source": [
    "supvr_millor_senRM = SVR(C=10, gamma='auto')\n",
    "supvr_millor_senRM.fit(X_senRMtrain, y_senRMtrain)\n",
    "y_predic_supvr_millor_senRM = supvr_millor_senRM.predict(X_senRMtest)\n",
    "y_predic_supvr_millor_senRM[1:10]"
   ]
  },
  {
   "cell_type": "markdown",
   "id": "21876f2f",
   "metadata": {},
   "source": [
    "#### 7. Calculem el MSE - R2 - Validació Creuada pel 'lr_senRM'"
   ]
  },
  {
   "cell_type": "code",
   "execution_count": 66,
   "id": "d84b8189",
   "metadata": {},
   "outputs": [],
   "source": [
    "lr_MSE_senRM = mean_squared_error(y_senRMtest, y_predic_lr_senRM)\n",
    "lr_R2_senRM = r2_score(y_senRMtest, y_predic_lr_senRM)\n",
    "cross_lr_senRM = cross_val_score(lr_senRM, X_senRM, y, cv=5, scoring='r2')"
   ]
  },
  {
   "cell_type": "markdown",
   "id": "a041b544",
   "metadata": {},
   "source": [
    "#### 7.1. Calculem el MSE - R2 - Validació Creuada pel 'lr_millor_senRM'"
   ]
  },
  {
   "cell_type": "code",
   "execution_count": 67,
   "id": "e5a4d8f9",
   "metadata": {},
   "outputs": [],
   "source": [
    "lr_MSE_millor_senRM = mean_squared_error(y_senRMtest, y_predic_lr_millor_senRM)\n",
    "lr_R2_millor_senRM = r2_score(y_senRMtest, y_predic_lr_millor_senRM)\n",
    "cross_lr_millor_senRM = cross_val_score(lr_millor_senRM, X_senRM, y, cv=5, scoring='r2')"
   ]
  },
  {
   "cell_type": "markdown",
   "id": "5c3c2406",
   "metadata": {},
   "source": [
    "#### 8. Calculem el MSE - R2 - Validació Creuada pel 'supvr_senRM'"
   ]
  },
  {
   "cell_type": "code",
   "execution_count": 89,
   "id": "7bf05b95",
   "metadata": {},
   "outputs": [],
   "source": [
    "supvr_MSE_senRM = mean_squared_error(y_senRMtest, y_predic_supvr_senRM)\n",
    "supvr_R2_senRM = r2_score(y_senRMtest, y_predic_supvr_senRM)\n",
    "cross_supvr_senRM = cross_val_score(supvr_senRM, X_senRM, y, cv=5, scoring='r2')"
   ]
  },
  {
   "cell_type": "markdown",
   "id": "0caf5fe9",
   "metadata": {},
   "source": [
    "#### 8.1. Calculem el MSE - R2 - Validació Creuada pel 'supvr_millor_senRM'"
   ]
  },
  {
   "cell_type": "code",
   "execution_count": 90,
   "id": "2a0bd238",
   "metadata": {},
   "outputs": [],
   "source": [
    "supvr_MSE_millor_senRM = mean_squared_error(y_senRMtest, y_predic_supvr_millor_senRM)\n",
    "supvr_R2_millor_senRM = r2_score(y_senRMtest, y_predic_supvr_millor_senRM)\n",
    "cross_supvr_millor_senRM = cross_val_score(supvr_millor_senRM, X_senRM, y, cv=5, scoring='r2')"
   ]
  },
  {
   "cell_type": "markdown",
   "id": "5aa0d6d3",
   "metadata": {},
   "source": [
    "#### 9. Ara acabarem de completar el dataframe general amb la comparació de totes les metriques calculades fins ara."
   ]
  },
  {
   "cell_type": "code",
   "execution_count": 95,
   "id": "9a47767a",
   "metadata": {},
   "outputs": [
    {
     "data": {
      "text/html": [
       "<div>\n",
       "<style scoped>\n",
       "    .dataframe tbody tr th:only-of-type {\n",
       "        vertical-align: middle;\n",
       "    }\n",
       "\n",
       "    .dataframe tbody tr th {\n",
       "        vertical-align: top;\n",
       "    }\n",
       "\n",
       "    .dataframe thead th {\n",
       "        text-align: right;\n",
       "    }\n",
       "</style>\n",
       "<table border=\"1\" class=\"dataframe\">\n",
       "  <thead>\n",
       "    <tr style=\"text-align: right;\">\n",
       "      <th></th>\n",
       "      <th>Tipus de Model</th>\n",
       "      <th>MSE</th>\n",
       "      <th>R2</th>\n",
       "      <th>R2 Cross Val</th>\n",
       "    </tr>\n",
       "  </thead>\n",
       "  <tbody>\n",
       "    <tr>\n",
       "      <th>0</th>\n",
       "      <td>Linear Regression</td>\n",
       "      <td>23.887420</td>\n",
       "      <td>0.741931</td>\n",
       "      <td>0.325008</td>\n",
       "    </tr>\n",
       "    <tr>\n",
       "      <th>1</th>\n",
       "      <td>Support Vector Regression</td>\n",
       "      <td>37.899717</td>\n",
       "      <td>0.590548</td>\n",
       "      <td>0.223777</td>\n",
       "    </tr>\n",
       "    <tr>\n",
       "      <th>2</th>\n",
       "      <td>Lineal Regression millor</td>\n",
       "      <td>23.887420</td>\n",
       "      <td>0.741931</td>\n",
       "      <td>0.325008</td>\n",
       "    </tr>\n",
       "    <tr>\n",
       "      <th>3</th>\n",
       "      <td>Support Vector Regression millor</td>\n",
       "      <td>17.410457</td>\n",
       "      <td>0.811905</td>\n",
       "      <td>0.486263</td>\n",
       "    </tr>\n",
       "    <tr>\n",
       "      <th>4</th>\n",
       "      <td>Lineal Regression senRM</td>\n",
       "      <td>28.106436</td>\n",
       "      <td>0.686629</td>\n",
       "      <td>0.476486</td>\n",
       "    </tr>\n",
       "    <tr>\n",
       "      <th>5</th>\n",
       "      <td>Lineal Regression Millor senRM</td>\n",
       "      <td>28.106436</td>\n",
       "      <td>0.686629</td>\n",
       "      <td>0.476486</td>\n",
       "    </tr>\n",
       "    <tr>\n",
       "      <th>6</th>\n",
       "      <td>Support Vector Regression senRM</td>\n",
       "      <td>58.974620</td>\n",
       "      <td>0.342467</td>\n",
       "      <td>0.073823</td>\n",
       "    </tr>\n",
       "    <tr>\n",
       "      <th>7</th>\n",
       "      <td>Support Vector Regression millor senRM</td>\n",
       "      <td>35.088936</td>\n",
       "      <td>0.608779</td>\n",
       "      <td>0.247028</td>\n",
       "    </tr>\n",
       "  </tbody>\n",
       "</table>\n",
       "</div>"
      ],
      "text/plain": [
       "                           Tipus de Model        MSE        R2  R2 Cross Val\n",
       "0                       Linear Regression  23.887420  0.741931      0.325008\n",
       "1               Support Vector Regression  37.899717  0.590548      0.223777\n",
       "2                Lineal Regression millor  23.887420  0.741931      0.325008\n",
       "3        Support Vector Regression millor  17.410457  0.811905      0.486263\n",
       "4                 Lineal Regression senRM  28.106436  0.686629      0.476486\n",
       "5          Lineal Regression Millor senRM  28.106436  0.686629      0.476486\n",
       "6         Support Vector Regression senRM  58.974620  0.342467      0.073823\n",
       "7  Support Vector Regression millor senRM  35.088936  0.608779      0.247028"
      ]
     },
     "execution_count": 95,
     "metadata": {},
     "output_type": "execute_result"
    }
   ],
   "source": [
    "mesures_senRM = pd.DataFrame(data = [['Lineal Regression senRM', lr_MSE_senRM, lr_R2_senRM, cross_lr_senRM.mean()], ['Lineal Regression Millor senRM', lr_MSE_millor_senRM, lr_R2_millor_senRM, cross_lr_millor_senRM.mean()], ['Support Vector Regression senRM', supvr_MSE_senRM, supvr_R2_senRM, cross_supvr_senRM.mean()], ['Support Vector Regression millor senRM', supvr_MSE_millor_senRM, supvr_R2_millor_senRM, cross_supvr_millor_senRM.mean()]], columns = ['Tipus de Model', 'MSE', 'R2', 'R2 Cross Val'])\n",
    "mesures = mesures.append(mesures_senRM, ignore_index=True)\n",
    "mesures"
   ]
  },
  {
   "cell_type": "markdown",
   "id": "c95771d2",
   "metadata": {},
   "source": [
    "### Comentaris"
   ]
  },
  {
   "cell_type": "markdown",
   "id": "11f7ca73",
   "metadata": {},
   "source": [
    "Si ens recordem de la correlació entre 'RM' i la nostra variable target 'MEDV', sabíem qué aconseguia un 70% de correlació. Per tant, el que podíem esperar era qué en un nou model sense aquesta variable tan important la correlació general baixés. És el que podem veure en el en el dataframe 'mesures'. Pasem d'un 81% en del 'Support Vector Regression millor' fins a un 60% 'Support Vector Regression millor senRM'.\n",
    "\n",
    "Això ens deixa l'ensenyament què qualsevol variable pot ser determinant en un model multivariat. Per tant s'han de revisar tots els atributs a consciència. També es pot dir que amb una variable tan important com 'RM' amb tanta rellevància en el comput general, es podria treballar molt de manera de pujar el coeficient de correlació."
   ]
  },
  {
   "cell_type": "code",
   "execution_count": null,
   "id": "2494006c",
   "metadata": {},
   "outputs": [],
   "source": []
  }
 ],
 "metadata": {
  "kernelspec": {
   "display_name": "Python 3 (ipykernel)",
   "language": "python",
   "name": "python3"
  },
  "language_info": {
   "codemirror_mode": {
    "name": "ipython",
    "version": 3
   },
   "file_extension": ".py",
   "mimetype": "text/x-python",
   "name": "python",
   "nbconvert_exporter": "python",
   "pygments_lexer": "ipython3",
   "version": "3.9.12"
  },
  "latex_envs": {
   "LaTeX_envs_menu_present": true,
   "autoclose": false,
   "autocomplete": true,
   "bibliofile": "biblio.bib",
   "cite_by": "apalike",
   "current_citInitial": 1,
   "eqLabelWithNumbers": true,
   "eqNumInitial": 1,
   "hotkeys": {
    "equation": "Ctrl-E",
    "itemize": "Ctrl-I"
   },
   "labels_anchors": false,
   "latex_user_defs": false,
   "report_style_numbering": false,
   "user_envs_cfg": false
  }
 },
 "nbformat": 4,
 "nbformat_minor": 5
}
